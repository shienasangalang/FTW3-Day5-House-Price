{
 "cells": [
  {
   "cell_type": "code",
   "execution_count": 247,
   "metadata": {},
   "outputs": [],
   "source": [
    "# IMPORT GENERIC PACKAGES\n",
    "import numpy as np # numerical calc package\n",
    "import pandas as pd # holds data\n",
    "import matplotlib.pyplot as plt # plotting library\n",
    "import seaborn as sns # pretty plotting\n",
    "\n",
    "# plotting config\n",
    "sns.set(style='white', rc={'figure.figsize':(20,10)})\n",
    "\n",
    "from sklearn.linear_model import LinearRegression # linear regression package\n",
    "from sklearn.model_selection import train_test_split # split dataset\n",
    "from sklearn.metrics import mean_squared_error as mse # Measurement metric\n",
    "from sklearn.metrics import mean_absolute_error as mae "
   ]
  },
  {
   "cell_type": "code",
   "execution_count": 248,
   "metadata": {},
   "outputs": [],
   "source": [
    "# read data into a DataFrame\n",
    "data = pd.read_csv('nyc-rolling-sales.csv')"
   ]
  },
  {
   "cell_type": "code",
   "execution_count": 249,
   "metadata": {},
   "outputs": [
    {
     "name": "stdout",
     "output_type": "stream",
     "text": [
      "Requirement already satisfied: pandas_profiling in c:\\users\\shiena sangalang\\anaconda3\\lib\\site-packages (2.3.0)\n",
      "Requirement already satisfied: jinja2>=2.8 in c:\\users\\shiena sangalang\\anaconda3\\lib\\site-packages (from pandas_profiling) (2.10.3)\n",
      "Requirement already satisfied: missingno>=0.4.2 in c:\\users\\shiena sangalang\\anaconda3\\lib\\site-packages (from pandas_profiling) (0.4.2)\n",
      "Requirement already satisfied: pandas>=0.19 in c:\\users\\shiena sangalang\\anaconda3\\lib\\site-packages (from pandas_profiling) (0.25.1)\n",
      "Requirement already satisfied: phik>=0.9.8 in c:\\users\\shiena sangalang\\anaconda3\\lib\\site-packages (from pandas_profiling) (0.9.8)\n",
      "Requirement already satisfied: confuse>=1.0.0 in c:\\users\\shiena sangalang\\anaconda3\\lib\\site-packages (from pandas_profiling) (1.0.0)\n",
      "Requirement already satisfied: htmlmin>=0.1.12 in c:\\users\\shiena sangalang\\anaconda3\\lib\\site-packages (from pandas_profiling) (0.1.12)\n",
      "Requirement already satisfied: matplotlib>=1.4 in c:\\users\\shiena sangalang\\anaconda3\\lib\\site-packages (from pandas_profiling) (3.1.1)\n",
      "Requirement already satisfied: astropy in c:\\users\\shiena sangalang\\anaconda3\\lib\\site-packages (from pandas_profiling) (3.2.1)\n",
      "Requirement already satisfied: MarkupSafe>=0.23 in c:\\users\\shiena sangalang\\anaconda3\\lib\\site-packages (from jinja2>=2.8->pandas_profiling) (1.1.1)\n",
      "Requirement already satisfied: scipy in c:\\users\\shiena sangalang\\anaconda3\\lib\\site-packages (from missingno>=0.4.2->pandas_profiling) (1.3.1)\n",
      "Requirement already satisfied: numpy in c:\\users\\shiena sangalang\\anaconda3\\lib\\site-packages (from missingno>=0.4.2->pandas_profiling) (1.16.5)\n",
      "Requirement already satisfied: seaborn in c:\\users\\shiena sangalang\\anaconda3\\lib\\site-packages (from missingno>=0.4.2->pandas_profiling) (0.9.0)\n",
      "Requirement already satisfied: python-dateutil>=2.6.1 in c:\\users\\shiena sangalang\\anaconda3\\lib\\site-packages (from pandas>=0.19->pandas_profiling) (2.8.0)\n",
      "Requirement already satisfied: pytz>=2017.2 in c:\\users\\shiena sangalang\\anaconda3\\lib\\site-packages (from pandas>=0.19->pandas_profiling) (2019.3)\n",
      "Requirement already satisfied: pytest>=4.0.2 in c:\\users\\shiena sangalang\\anaconda3\\lib\\site-packages (from phik>=0.9.8->pandas_profiling) (5.2.1)\n",
      "Requirement already satisfied: numba>=0.38.1 in c:\\users\\shiena sangalang\\anaconda3\\lib\\site-packages (from phik>=0.9.8->pandas_profiling) (0.45.1)\n",
      "Requirement already satisfied: nbconvert>=5.3.1 in c:\\users\\shiena sangalang\\anaconda3\\lib\\site-packages (from phik>=0.9.8->pandas_profiling) (5.6.0)\n",
      "Requirement already satisfied: pytest-pylint>=0.13.0 in c:\\users\\shiena sangalang\\anaconda3\\lib\\site-packages (from phik>=0.9.8->pandas_profiling) (0.14.1)\n",
      "Requirement already satisfied: jupyter-client>=5.2.3 in c:\\users\\shiena sangalang\\anaconda3\\lib\\site-packages (from phik>=0.9.8->pandas_profiling) (5.3.3)\n",
      "Requirement already satisfied: pyyaml in c:\\users\\shiena sangalang\\anaconda3\\lib\\site-packages (from confuse>=1.0.0->pandas_profiling) (5.1.2)\n",
      "Requirement already satisfied: cycler>=0.10 in c:\\users\\shiena sangalang\\anaconda3\\lib\\site-packages (from matplotlib>=1.4->pandas_profiling) (0.10.0)\n",
      "Requirement already satisfied: kiwisolver>=1.0.1 in c:\\users\\shiena sangalang\\anaconda3\\lib\\site-packages (from matplotlib>=1.4->pandas_profiling) (1.1.0)\n",
      "Requirement already satisfied: pyparsing!=2.0.4,!=2.1.2,!=2.1.6,>=2.0.1 in c:\\users\\shiena sangalang\\anaconda3\\lib\\site-packages (from matplotlib>=1.4->pandas_profiling) (2.4.2)\n",
      "Requirement already satisfied: six>=1.5 in c:\\users\\shiena sangalang\\anaconda3\\lib\\site-packages (from python-dateutil>=2.6.1->pandas>=0.19->pandas_profiling) (1.12.0)\n",
      "Requirement already satisfied: py>=1.5.0 in c:\\users\\shiena sangalang\\anaconda3\\lib\\site-packages (from pytest>=4.0.2->phik>=0.9.8->pandas_profiling) (1.8.0)\n",
      "Requirement already satisfied: packaging in c:\\users\\shiena sangalang\\anaconda3\\lib\\site-packages (from pytest>=4.0.2->phik>=0.9.8->pandas_profiling) (19.2)\n",
      "Requirement already satisfied: attrs>=17.4.0 in c:\\users\\shiena sangalang\\anaconda3\\lib\\site-packages (from pytest>=4.0.2->phik>=0.9.8->pandas_profiling) (19.2.0)\n",
      "Requirement already satisfied: more-itertools>=4.0.0 in c:\\users\\shiena sangalang\\anaconda3\\lib\\site-packages (from pytest>=4.0.2->phik>=0.9.8->pandas_profiling) (7.2.0)\n",
      "Requirement already satisfied: atomicwrites>=1.0 in c:\\users\\shiena sangalang\\anaconda3\\lib\\site-packages (from pytest>=4.0.2->phik>=0.9.8->pandas_profiling) (1.3.0)\n",
      "Requirement already satisfied: pluggy<1.0,>=0.12 in c:\\users\\shiena sangalang\\anaconda3\\lib\\site-packages (from pytest>=4.0.2->phik>=0.9.8->pandas_profiling) (0.13.0)\n",
      "Requirement already satisfied: wcwidth in c:\\users\\shiena sangalang\\anaconda3\\lib\\site-packages (from pytest>=4.0.2->phik>=0.9.8->pandas_profiling) (0.1.7)\n",
      "Requirement already satisfied: importlib-metadata>=0.12 in c:\\users\\shiena sangalang\\anaconda3\\lib\\site-packages (from pytest>=4.0.2->phik>=0.9.8->pandas_profiling) (0.23)\n",
      "Requirement already satisfied: colorama in c:\\users\\shiena sangalang\\anaconda3\\lib\\site-packages (from pytest>=4.0.2->phik>=0.9.8->pandas_profiling) (0.4.1)\n",
      "Requirement already satisfied: llvmlite>=0.29.0dev0 in c:\\users\\shiena sangalang\\anaconda3\\lib\\site-packages (from numba>=0.38.1->phik>=0.9.8->pandas_profiling) (0.29.0)\n",
      "Requirement already satisfied: bleach in c:\\users\\shiena sangalang\\anaconda3\\lib\\site-packages (from nbconvert>=5.3.1->phik>=0.9.8->pandas_profiling) (3.1.0)\n",
      "Requirement already satisfied: pandocfilters>=1.4.1 in c:\\users\\shiena sangalang\\anaconda3\\lib\\site-packages (from nbconvert>=5.3.1->phik>=0.9.8->pandas_profiling) (1.4.2)\n",
      "Requirement already satisfied: testpath in c:\\users\\shiena sangalang\\anaconda3\\lib\\site-packages (from nbconvert>=5.3.1->phik>=0.9.8->pandas_profiling) (0.4.2)\n",
      "Requirement already satisfied: entrypoints>=0.2.2 in c:\\users\\shiena sangalang\\anaconda3\\lib\\site-packages (from nbconvert>=5.3.1->phik>=0.9.8->pandas_profiling) (0.3)\n",
      "Requirement already satisfied: nbformat>=4.4 in c:\\users\\shiena sangalang\\anaconda3\\lib\\site-packages (from nbconvert>=5.3.1->phik>=0.9.8->pandas_profiling) (4.4.0)\n",
      "Requirement already satisfied: traitlets>=4.2 in c:\\users\\shiena sangalang\\anaconda3\\lib\\site-packages (from nbconvert>=5.3.1->phik>=0.9.8->pandas_profiling) (4.3.3)\n",
      "Requirement already satisfied: defusedxml in c:\\users\\shiena sangalang\\anaconda3\\lib\\site-packages (from nbconvert>=5.3.1->phik>=0.9.8->pandas_profiling) (0.6.0)\n",
      "Requirement already satisfied: pygments in c:\\users\\shiena sangalang\\anaconda3\\lib\\site-packages (from nbconvert>=5.3.1->phik>=0.9.8->pandas_profiling) (2.4.2)\n",
      "Requirement already satisfied: mistune<2,>=0.8.1 in c:\\users\\shiena sangalang\\anaconda3\\lib\\site-packages (from nbconvert>=5.3.1->phik>=0.9.8->pandas_profiling) (0.8.4)\n",
      "Requirement already satisfied: jupyter-core in c:\\users\\shiena sangalang\\anaconda3\\lib\\site-packages (from nbconvert>=5.3.1->phik>=0.9.8->pandas_profiling) (4.5.0)\n",
      "Requirement already satisfied: pylint>=1.4.5 in c:\\users\\shiena sangalang\\anaconda3\\lib\\site-packages (from pytest-pylint>=0.13.0->phik>=0.9.8->pandas_profiling) (2.4.2)\n",
      "Requirement already satisfied: tornado>=4.1 in c:\\users\\shiena sangalang\\anaconda3\\lib\\site-packages (from jupyter-client>=5.2.3->phik>=0.9.8->pandas_profiling) (6.0.3)\n",
      "Requirement already satisfied: pyzmq>=13 in c:\\users\\shiena sangalang\\anaconda3\\lib\\site-packages (from jupyter-client>=5.2.3->phik>=0.9.8->pandas_profiling) (18.1.0)\n",
      "Requirement already satisfied: pywin32>=1.0; sys_platform == \"win32\" in c:\\users\\shiena sangalang\\anaconda3\\lib\\site-packages (from jupyter-client>=5.2.3->phik>=0.9.8->pandas_profiling) (223)\n",
      "Requirement already satisfied: setuptools in c:\\users\\shiena sangalang\\anaconda3\\lib\\site-packages (from kiwisolver>=1.0.1->matplotlib>=1.4->pandas_profiling) (41.4.0)\n",
      "Requirement already satisfied: zipp>=0.5 in c:\\users\\shiena sangalang\\anaconda3\\lib\\site-packages (from importlib-metadata>=0.12->pytest>=4.0.2->phik>=0.9.8->pandas_profiling) (0.6.0)\n",
      "Requirement already satisfied: webencodings in c:\\users\\shiena sangalang\\anaconda3\\lib\\site-packages (from bleach->nbconvert>=5.3.1->phik>=0.9.8->pandas_profiling) (0.5.1)\n",
      "Requirement already satisfied: jsonschema!=2.5.0,>=2.4 in c:\\users\\shiena sangalang\\anaconda3\\lib\\site-packages (from nbformat>=4.4->nbconvert>=5.3.1->phik>=0.9.8->pandas_profiling) (3.0.2)\n",
      "Requirement already satisfied: ipython-genutils in c:\\users\\shiena sangalang\\anaconda3\\lib\\site-packages (from nbformat>=4.4->nbconvert>=5.3.1->phik>=0.9.8->pandas_profiling) (0.2.0)\n",
      "Requirement already satisfied: decorator in c:\\users\\shiena sangalang\\anaconda3\\lib\\site-packages (from traitlets>=4.2->nbconvert>=5.3.1->phik>=0.9.8->pandas_profiling) (4.4.0)\n",
      "Requirement already satisfied: astroid<2.4,>=2.3.0 in c:\\users\\shiena sangalang\\anaconda3\\lib\\site-packages (from pylint>=1.4.5->pytest-pylint>=0.13.0->phik>=0.9.8->pandas_profiling) (2.3.1)\n",
      "Requirement already satisfied: mccabe<0.7,>=0.6 in c:\\users\\shiena sangalang\\anaconda3\\lib\\site-packages (from pylint>=1.4.5->pytest-pylint>=0.13.0->phik>=0.9.8->pandas_profiling) (0.6.1)\n",
      "Requirement already satisfied: isort<5,>=4.2.5 in c:\\users\\shiena sangalang\\anaconda3\\lib\\site-packages (from pylint>=1.4.5->pytest-pylint>=0.13.0->phik>=0.9.8->pandas_profiling) (4.3.21)\n",
      "Requirement already satisfied: pyrsistent>=0.14.0 in c:\\users\\shiena sangalang\\anaconda3\\lib\\site-packages (from jsonschema!=2.5.0,>=2.4->nbformat>=4.4->nbconvert>=5.3.1->phik>=0.9.8->pandas_profiling) (0.15.4)\n",
      "Requirement already satisfied: lazy-object-proxy==1.4.* in c:\\users\\shiena sangalang\\anaconda3\\lib\\site-packages (from astroid<2.4,>=2.3.0->pylint>=1.4.5->pytest-pylint>=0.13.0->phik>=0.9.8->pandas_profiling) (1.4.2)\n",
      "Requirement already satisfied: wrapt==1.11.* in c:\\users\\shiena sangalang\\anaconda3\\lib\\site-packages (from astroid<2.4,>=2.3.0->pylint>=1.4.5->pytest-pylint>=0.13.0->phik>=0.9.8->pandas_profiling) (1.11.2)\n",
      "Requirement already satisfied: typed-ast<1.5,>=1.4.0; implementation_name == \"cpython\" and python_version < \"3.8\" in c:\\users\\shiena sangalang\\anaconda3\\lib\\site-packages (from astroid<2.4,>=2.3.0->pylint>=1.4.5->pytest-pylint>=0.13.0->phik>=0.9.8->pandas_profiling) (1.4.0)\n"
     ]
    }
   ],
   "source": [
    "!pip install pandas_profiling"
   ]
  },
  {
   "cell_type": "code",
   "execution_count": 250,
   "metadata": {},
   "outputs": [],
   "source": [
    "import pandas_profiling as pp"
   ]
  },
  {
   "cell_type": "code",
   "execution_count": 251,
   "metadata": {},
   "outputs": [],
   "source": [
    "report = pp.ProfileReport(data)\n",
    "report.to_file('data_assessment.html')"
   ]
  },
  {
   "cell_type": "code",
   "execution_count": 252,
   "metadata": {},
   "outputs": [
    {
     "data": {
      "text/html": [
       "<div>\n",
       "<style scoped>\n",
       "    .dataframe tbody tr th:only-of-type {\n",
       "        vertical-align: middle;\n",
       "    }\n",
       "\n",
       "    .dataframe tbody tr th {\n",
       "        vertical-align: top;\n",
       "    }\n",
       "\n",
       "    .dataframe thead th {\n",
       "        text-align: right;\n",
       "    }\n",
       "</style>\n",
       "<table border=\"1\" class=\"dataframe\">\n",
       "  <thead>\n",
       "    <tr style=\"text-align: right;\">\n",
       "      <th></th>\n",
       "      <th>Unnamed_0</th>\n",
       "      <th>BOROUGH</th>\n",
       "      <th>NEIGHBORHOOD</th>\n",
       "      <th>BUILDING_CLASS_CATEGORY</th>\n",
       "      <th>TAX_CLASS_AT_PRESENT</th>\n",
       "      <th>BLOCK</th>\n",
       "      <th>LOT</th>\n",
       "      <th>EASE-MENT</th>\n",
       "      <th>BUILDING_CLASS_AT_PRESENT</th>\n",
       "      <th>ADDRESS</th>\n",
       "      <th>...</th>\n",
       "      <th>RESIDENTIAL_UNITS</th>\n",
       "      <th>COMMERCIAL_UNITS</th>\n",
       "      <th>TOTAL_UNITS</th>\n",
       "      <th>LAND_SQUARE_FEET</th>\n",
       "      <th>GROSS_SQUARE_FEET</th>\n",
       "      <th>YEAR_BUILT</th>\n",
       "      <th>TAX_CLASS_AT_TIME_OF_SALE</th>\n",
       "      <th>BUILDING_CLASS_AT_TIME_OF_SALE</th>\n",
       "      <th>SALE_PRICE</th>\n",
       "      <th>SALE_DATE</th>\n",
       "    </tr>\n",
       "  </thead>\n",
       "  <tbody>\n",
       "    <tr>\n",
       "      <td>0</td>\n",
       "      <td>4</td>\n",
       "      <td>1</td>\n",
       "      <td>ALPHABET CITY</td>\n",
       "      <td>07 RENTALS - WALKUP APARTMENTS</td>\n",
       "      <td>2A</td>\n",
       "      <td>392</td>\n",
       "      <td>6</td>\n",
       "      <td></td>\n",
       "      <td>C2</td>\n",
       "      <td>153 AVENUE B</td>\n",
       "      <td>...</td>\n",
       "      <td>5</td>\n",
       "      <td>0</td>\n",
       "      <td>5</td>\n",
       "      <td>1633</td>\n",
       "      <td>6440</td>\n",
       "      <td>1900</td>\n",
       "      <td>2</td>\n",
       "      <td>C2</td>\n",
       "      <td>6625000</td>\n",
       "      <td>2017-07-19 00:00:00</td>\n",
       "    </tr>\n",
       "    <tr>\n",
       "      <td>1</td>\n",
       "      <td>5</td>\n",
       "      <td>1</td>\n",
       "      <td>ALPHABET CITY</td>\n",
       "      <td>07 RENTALS - WALKUP APARTMENTS</td>\n",
       "      <td>2</td>\n",
       "      <td>399</td>\n",
       "      <td>26</td>\n",
       "      <td></td>\n",
       "      <td>C7</td>\n",
       "      <td>234 EAST 4TH   STREET</td>\n",
       "      <td>...</td>\n",
       "      <td>28</td>\n",
       "      <td>3</td>\n",
       "      <td>31</td>\n",
       "      <td>4616</td>\n",
       "      <td>18690</td>\n",
       "      <td>1900</td>\n",
       "      <td>2</td>\n",
       "      <td>C7</td>\n",
       "      <td>-</td>\n",
       "      <td>2016-12-14 00:00:00</td>\n",
       "    </tr>\n",
       "    <tr>\n",
       "      <td>2</td>\n",
       "      <td>6</td>\n",
       "      <td>1</td>\n",
       "      <td>ALPHABET CITY</td>\n",
       "      <td>07 RENTALS - WALKUP APARTMENTS</td>\n",
       "      <td>2</td>\n",
       "      <td>399</td>\n",
       "      <td>39</td>\n",
       "      <td></td>\n",
       "      <td>C7</td>\n",
       "      <td>197 EAST 3RD   STREET</td>\n",
       "      <td>...</td>\n",
       "      <td>16</td>\n",
       "      <td>1</td>\n",
       "      <td>17</td>\n",
       "      <td>2212</td>\n",
       "      <td>7803</td>\n",
       "      <td>1900</td>\n",
       "      <td>2</td>\n",
       "      <td>C7</td>\n",
       "      <td>-</td>\n",
       "      <td>2016-12-09 00:00:00</td>\n",
       "    </tr>\n",
       "    <tr>\n",
       "      <td>3</td>\n",
       "      <td>7</td>\n",
       "      <td>1</td>\n",
       "      <td>ALPHABET CITY</td>\n",
       "      <td>07 RENTALS - WALKUP APARTMENTS</td>\n",
       "      <td>2B</td>\n",
       "      <td>402</td>\n",
       "      <td>21</td>\n",
       "      <td></td>\n",
       "      <td>C4</td>\n",
       "      <td>154 EAST 7TH STREET</td>\n",
       "      <td>...</td>\n",
       "      <td>10</td>\n",
       "      <td>0</td>\n",
       "      <td>10</td>\n",
       "      <td>2272</td>\n",
       "      <td>6794</td>\n",
       "      <td>1913</td>\n",
       "      <td>2</td>\n",
       "      <td>C4</td>\n",
       "      <td>3936272</td>\n",
       "      <td>2016-09-23 00:00:00</td>\n",
       "    </tr>\n",
       "    <tr>\n",
       "      <td>4</td>\n",
       "      <td>8</td>\n",
       "      <td>1</td>\n",
       "      <td>ALPHABET CITY</td>\n",
       "      <td>07 RENTALS - WALKUP APARTMENTS</td>\n",
       "      <td>2A</td>\n",
       "      <td>404</td>\n",
       "      <td>55</td>\n",
       "      <td></td>\n",
       "      <td>C2</td>\n",
       "      <td>301 EAST 10TH   STREET</td>\n",
       "      <td>...</td>\n",
       "      <td>6</td>\n",
       "      <td>0</td>\n",
       "      <td>6</td>\n",
       "      <td>2369</td>\n",
       "      <td>4615</td>\n",
       "      <td>1900</td>\n",
       "      <td>2</td>\n",
       "      <td>C2</td>\n",
       "      <td>8000000</td>\n",
       "      <td>2016-11-17 00:00:00</td>\n",
       "    </tr>\n",
       "  </tbody>\n",
       "</table>\n",
       "<p>5 rows × 22 columns</p>\n",
       "</div>"
      ],
      "text/plain": [
       "   Unnamed_0  BOROUGH   NEIGHBORHOOD  \\\n",
       "0          4        1  ALPHABET CITY   \n",
       "1          5        1  ALPHABET CITY   \n",
       "2          6        1  ALPHABET CITY   \n",
       "3          7        1  ALPHABET CITY   \n",
       "4          8        1  ALPHABET CITY   \n",
       "\n",
       "                       BUILDING_CLASS_CATEGORY TAX_CLASS_AT_PRESENT  BLOCK  \\\n",
       "0  07 RENTALS - WALKUP APARTMENTS                                2A    392   \n",
       "1  07 RENTALS - WALKUP APARTMENTS                                 2    399   \n",
       "2  07 RENTALS - WALKUP APARTMENTS                                 2    399   \n",
       "3  07 RENTALS - WALKUP APARTMENTS                                2B    402   \n",
       "4  07 RENTALS - WALKUP APARTMENTS                                2A    404   \n",
       "\n",
       "   LOT EASE-MENT BUILDING_CLASS_AT_PRESENT                 ADDRESS  ...  \\\n",
       "0    6                                  C2            153 AVENUE B  ...   \n",
       "1   26                                  C7   234 EAST 4TH   STREET  ...   \n",
       "2   39                                  C7   197 EAST 3RD   STREET  ...   \n",
       "3   21                                  C4     154 EAST 7TH STREET  ...   \n",
       "4   55                                  C2  301 EAST 10TH   STREET  ...   \n",
       "\n",
       "  RESIDENTIAL_UNITS  COMMERCIAL_UNITS  TOTAL_UNITS  LAND_SQUARE_FEET  \\\n",
       "0                 5                 0            5              1633   \n",
       "1                28                 3           31              4616   \n",
       "2                16                 1           17              2212   \n",
       "3                10                 0           10              2272   \n",
       "4                 6                 0            6              2369   \n",
       "\n",
       "   GROSS_SQUARE_FEET YEAR_BUILT TAX_CLASS_AT_TIME_OF_SALE  \\\n",
       "0               6440       1900                         2   \n",
       "1              18690       1900                         2   \n",
       "2               7803       1900                         2   \n",
       "3               6794       1913                         2   \n",
       "4               4615       1900                         2   \n",
       "\n",
       "   BUILDING_CLASS_AT_TIME_OF_SALE  SALE_PRICE            SALE_DATE  \n",
       "0                              C2     6625000  2017-07-19 00:00:00  \n",
       "1                              C7         -    2016-12-14 00:00:00  \n",
       "2                              C7         -    2016-12-09 00:00:00  \n",
       "3                              C4     3936272  2016-09-23 00:00:00  \n",
       "4                              C2     8000000  2016-11-17 00:00:00  \n",
       "\n",
       "[5 rows x 22 columns]"
      ]
     },
     "execution_count": 252,
     "metadata": {},
     "output_type": "execute_result"
    }
   ],
   "source": [
    "data.head()"
   ]
  },
  {
   "cell_type": "markdown",
   "metadata": {},
   "source": [
    "**CLEAN DATA**"
   ]
  },
  {
   "cell_type": "code",
   "execution_count": 253,
   "metadata": {},
   "outputs": [
    {
     "data": {
      "text/plain": [
       "0    6625000\n",
       "1        -  \n",
       "2        -  \n",
       "3    3936272\n",
       "4    8000000\n",
       "Name: SALE_PRICE, dtype: object"
      ]
     },
     "execution_count": 253,
     "metadata": {},
     "output_type": "execute_result"
    }
   ],
   "source": [
    "data['SALE_PRICE'].head()"
   ]
  },
  {
   "cell_type": "code",
   "execution_count": 254,
   "metadata": {},
   "outputs": [],
   "source": [
    "data['SALE_PRICE'] = pd.to_numeric(data['SALE_PRICE'], errors = 'coerce') # converts a data to numeric"
   ]
  },
  {
   "cell_type": "code",
   "execution_count": 255,
   "metadata": {},
   "outputs": [
    {
     "data": {
      "text/plain": [
       "0    6625000.0\n",
       "1          NaN\n",
       "2          NaN\n",
       "3    3936272.0\n",
       "4    8000000.0\n",
       "Name: SALE_PRICE, dtype: float64"
      ]
     },
     "execution_count": 255,
     "metadata": {},
     "output_type": "execute_result"
    }
   ],
   "source": [
    "data['SALE_PRICE'].head()"
   ]
  },
  {
   "cell_type": "code",
   "execution_count": 256,
   "metadata": {},
   "outputs": [
    {
     "data": {
      "text/plain": [
       "14561"
      ]
     },
     "execution_count": 256,
     "metadata": {},
     "output_type": "execute_result"
    }
   ],
   "source": [
    "data['SALE_PRICE'].isna().sum() # to count the null values"
   ]
  },
  {
   "cell_type": "code",
   "execution_count": 257,
   "metadata": {},
   "outputs": [
    {
     "data": {
      "text/plain": [
       "0"
      ]
     },
     "execution_count": 257,
     "metadata": {},
     "output_type": "execute_result"
    }
   ],
   "source": [
    "data['SALE_PRICE'] = data['SALE_PRICE'].fillna(0) # updates all null values to zero (0)\n",
    "data['SALE_PRICE'].isna().sum() # this should be equal to zero since all null have been transformed to 0 values"
   ]
  },
  {
   "cell_type": "code",
   "execution_count": 258,
   "metadata": {},
   "outputs": [
    {
     "data": {
      "text/plain": [
       "0     6440\n",
       "1    18690\n",
       "2     7803\n",
       "3     6794\n",
       "4     4615\n",
       "Name: GROSS_SQUARE_FEET, dtype: object"
      ]
     },
     "execution_count": 258,
     "metadata": {},
     "output_type": "execute_result"
    }
   ],
   "source": [
    "data['GROSS_SQUARE_FEET'].head()"
   ]
  },
  {
   "cell_type": "code",
   "execution_count": 259,
   "metadata": {},
   "outputs": [
    {
     "data": {
      "text/plain": [
       "0     6440.0\n",
       "1    18690.0\n",
       "2     7803.0\n",
       "3     6794.0\n",
       "4     4615.0\n",
       "Name: GROSS_SQUARE_FEET, dtype: float64"
      ]
     },
     "execution_count": 259,
     "metadata": {},
     "output_type": "execute_result"
    }
   ],
   "source": [
    "data['GROSS_SQUARE_FEET'] = pd.to_numeric(data['GROSS_SQUARE_FEET'], errors = 'coerce')\n",
    "data['GROSS_SQUARE_FEET'].head()"
   ]
  },
  {
   "cell_type": "code",
   "execution_count": 260,
   "metadata": {},
   "outputs": [
    {
     "data": {
      "text/plain": [
       "0    1633\n",
       "1    4616\n",
       "2    2212\n",
       "3    2272\n",
       "4    2369\n",
       "Name: LAND_SQUARE_FEET, dtype: object"
      ]
     },
     "execution_count": 260,
     "metadata": {},
     "output_type": "execute_result"
    }
   ],
   "source": [
    "data['LAND_SQUARE_FEET'].head()"
   ]
  },
  {
   "cell_type": "code",
   "execution_count": 261,
   "metadata": {},
   "outputs": [
    {
     "data": {
      "text/plain": [
       "0    1633.0\n",
       "1    4616.0\n",
       "2    2212.0\n",
       "3    2272.0\n",
       "4    2369.0\n",
       "Name: LAND_SQUARE_FEET, dtype: float64"
      ]
     },
     "execution_count": 261,
     "metadata": {},
     "output_type": "execute_result"
    }
   ],
   "source": [
    "data['LAND_SQUARE_FEET'] = pd.to_numeric(data['LAND_SQUARE_FEET'], errors = 'coerce')\n",
    "data['LAND_SQUARE_FEET'].head()"
   ]
  },
  {
   "cell_type": "code",
   "execution_count": 262,
   "metadata": {},
   "outputs": [
    {
     "data": {
      "text/plain": [
       "26252"
      ]
     },
     "execution_count": 262,
     "metadata": {},
     "output_type": "execute_result"
    }
   ],
   "source": [
    "data['GROSS_SQUARE_FEET'].isna().sum() \n",
    "data['LAND_SQUARE_FEET'].isna().sum() "
   ]
  },
  {
   "cell_type": "code",
   "execution_count": 263,
   "metadata": {},
   "outputs": [],
   "source": [
    "# data['GROSS_SQUARE_FEET'] = data['LAND_SQUARE_FEET'].fillna(0)\n",
    "# data['LAND_SQUARE_FEET'] = data['LAND_SQUARE_FEET'].fillna(0)"
   ]
  },
  {
   "cell_type": "code",
   "execution_count": 264,
   "metadata": {},
   "outputs": [
    {
     "data": {
      "text/plain": [
       "<matplotlib.axes._subplots.AxesSubplot at 0x2450547fd08>"
      ]
     },
     "execution_count": 264,
     "metadata": {},
     "output_type": "execute_result"
    },
    {
     "data": {
      "image/png": "[encoded data removed]",
      "text/plain": [
       "<Figure size 1440x720 with 1 Axes>"
      ]
     },
     "metadata": {},
     "output_type": "display_data"
    }
   ],
   "source": [
    "sns.distplot(data['SALE_PRICE'])"
   ]
  },
  {
   "cell_type": "code",
   "execution_count": 265,
   "metadata": {},
   "outputs": [],
   "source": [
    "# remove rows in data where Sale Price is 0 to 10k\n",
    "# data = data[data['SALE_PRICE'] > 10000]"
   ]
  },
  {
   "cell_type": "code",
   "execution_count": 266,
   "metadata": {},
   "outputs": [
    {
     "data": {
      "text/plain": [
       "Unnamed_0                           int64\n",
       "BOROUGH                             int64\n",
       "NEIGHBORHOOD                       object\n",
       "BUILDING_CLASS_CATEGORY            object\n",
       "TAX_CLASS_AT_PRESENT               object\n",
       "BLOCK                               int64\n",
       "LOT                                 int64\n",
       "EASE-MENT                          object\n",
       "BUILDING_CLASS_AT_PRESENT          object\n",
       "ADDRESS                            object\n",
       "APARTMENT_NUMBER                   object\n",
       "ZIP_CODE                            int64\n",
       "RESIDENTIAL_UNITS                   int64\n",
       "COMMERCIAL_UNITS                    int64\n",
       "TOTAL_UNITS                         int64\n",
       "LAND_SQUARE_FEET                  float64\n",
       "GROSS_SQUARE_FEET                 float64\n",
       "YEAR_BUILT                          int64\n",
       "TAX_CLASS_AT_TIME_OF_SALE           int64\n",
       "BUILDING_CLASS_AT_TIME_OF_SALE     object\n",
       "SALE_PRICE                        float64\n",
       "SALE_DATE                          object\n",
       "dtype: object"
      ]
     },
     "execution_count": 266,
     "metadata": {},
     "output_type": "execute_result"
    }
   ],
   "source": [
    "data.dtypes"
   ]
  },
  {
   "cell_type": "code",
   "execution_count": 267,
   "metadata": {},
   "outputs": [],
   "source": [
    "#Convert to date\n",
    "data['SALE_DATE'] = pd.to_datetime(data['SALE_DATE'], errors='coerce')"
   ]
  },
  {
   "cell_type": "code",
   "execution_count": 268,
   "metadata": {},
   "outputs": [],
   "source": [
    "#Remove 5th and 95th percentile tails\n",
    "zero = 0\n",
    "fifth = data['SALE_PRICE'].describe(np.arange(0.05, 1, 0.05)).T['15%']\n",
    "ninetyfifth = data['SALE_PRICE'].describe(np.arange(0.05, 1, 0.05)).T['95%']\n",
    "data = data[(data['SALE_PRICE'] > zero) & (data['SALE_PRICE'] <= ninetyfifth)].copy()\n",
    "\n",
    "data.dropna(inplace = True)"
   ]
  },
  {
   "cell_type": "code",
   "execution_count": 291,
   "metadata": {},
   "outputs": [
    {
     "data": {
      "text/plain": [
       "(36128, 22)"
      ]
     },
     "execution_count": 291,
     "metadata": {},
     "output_type": "execute_result"
    }
   ],
   "source": [
    "data.shape"
   ]
  },
  {
   "cell_type": "code",
   "execution_count": 292,
   "metadata": {},
   "outputs": [],
   "source": [
    "#set variables\n",
    "dependent = ['SALE_PRICE']\n",
    "categorical = ['BOROUGH','NEIGHBORHOOD','BUILDING_CLASS_CATEGORY', 'TAX_CLASS_AT_PRESENT', 'BUILDING_CLASS_AT_PRESENT','BUILDING_CLASS_AT_TIME_OF_SALE']\n",
    "counts = ['RESIDENTIAL_UNITS', 'COMMERCIAL_UNITS', 'LAND_SQUARE_FEET', 'GROSS_SQUARE_FEET']"
   ]
  },
  {
   "cell_type": "markdown",
   "metadata": {},
   "source": [
    "**FEATURE ENGINEERING**"
   ]
  },
  {
   "cell_type": "code",
   "execution_count": 293,
   "metadata": {},
   "outputs": [],
   "source": [
    "#DUMMY VARIABLES: MULTIHOT ENCODING\n",
    "df_cat = pd.get_dummies(data[categorical].astype(str))\n",
    "\n",
    "#Reassigning numerical to different df\n",
    "df_cnt = data[counts]\n"
   ]
  },
  {
   "cell_type": "markdown",
   "metadata": {},
   "source": [
    "**FEATURE SELECTION AND TRAIN - TEST SPLIT**"
   ]
  },
  {
   "cell_type": "code",
   "execution_count": 350,
   "metadata": {},
   "outputs": [],
   "source": [
    "#Define Features: Concatenate the features set above\n",
    "Features = pd.concat([df_cat, df_cnt], axis = 1)\n",
    "\n",
    "# Features.head()\n",
    "# Set X and y\n",
    "X = Features\n",
    "y = data[dependent]"
   ]
  },
  {
   "cell_type": "code",
   "execution_count": 351,
   "metadata": {},
   "outputs": [
    {
     "data": {
      "text/html": [
       "<div>\n",
       "<style scoped>\n",
       "    .dataframe tbody tr th:only-of-type {\n",
       "        vertical-align: middle;\n",
       "    }\n",
       "\n",
       "    .dataframe tbody tr th {\n",
       "        vertical-align: top;\n",
       "    }\n",
       "\n",
       "    .dataframe thead th {\n",
       "        text-align: right;\n",
       "    }\n",
       "</style>\n",
       "<table border=\"1\" class=\"dataframe\">\n",
       "  <thead>\n",
       "    <tr style=\"text-align: right;\">\n",
       "      <th></th>\n",
       "      <th>BOROUGH_1</th>\n",
       "      <th>BOROUGH_2</th>\n",
       "      <th>BOROUGH_3</th>\n",
       "      <th>BOROUGH_4</th>\n",
       "      <th>BOROUGH_5</th>\n",
       "      <th>NEIGHBORHOOD_AIRPORT LA GUARDIA</th>\n",
       "      <th>NEIGHBORHOOD_ANNADALE</th>\n",
       "      <th>NEIGHBORHOOD_ARDEN HEIGHTS</th>\n",
       "      <th>NEIGHBORHOOD_ARROCHAR</th>\n",
       "      <th>NEIGHBORHOOD_ARROCHAR-SHORE ACRES</th>\n",
       "      <th>...</th>\n",
       "      <th>BUILDING_CLASS_AT_TIME_OF_SALE_W4</th>\n",
       "      <th>BUILDING_CLASS_AT_TIME_OF_SALE_W8</th>\n",
       "      <th>BUILDING_CLASS_AT_TIME_OF_SALE_W9</th>\n",
       "      <th>BUILDING_CLASS_AT_TIME_OF_SALE_Y1</th>\n",
       "      <th>BUILDING_CLASS_AT_TIME_OF_SALE_Z0</th>\n",
       "      <th>BUILDING_CLASS_AT_TIME_OF_SALE_Z9</th>\n",
       "      <th>RESIDENTIAL_UNITS</th>\n",
       "      <th>COMMERCIAL_UNITS</th>\n",
       "      <th>LAND_SQUARE_FEET</th>\n",
       "      <th>GROSS_SQUARE_FEET</th>\n",
       "    </tr>\n",
       "  </thead>\n",
       "  <tbody>\n",
       "    <tr>\n",
       "      <td>207</td>\n",
       "      <td>1</td>\n",
       "      <td>0</td>\n",
       "      <td>0</td>\n",
       "      <td>0</td>\n",
       "      <td>0</td>\n",
       "      <td>0</td>\n",
       "      <td>0</td>\n",
       "      <td>0</td>\n",
       "      <td>0</td>\n",
       "      <td>0</td>\n",
       "      <td>...</td>\n",
       "      <td>0</td>\n",
       "      <td>0</td>\n",
       "      <td>0</td>\n",
       "      <td>0</td>\n",
       "      <td>0</td>\n",
       "      <td>0</td>\n",
       "      <td>1</td>\n",
       "      <td>0</td>\n",
       "      <td>1588.0</td>\n",
       "      <td>5653.0</td>\n",
       "    </tr>\n",
       "    <tr>\n",
       "      <td>208</td>\n",
       "      <td>1</td>\n",
       "      <td>0</td>\n",
       "      <td>0</td>\n",
       "      <td>0</td>\n",
       "      <td>0</td>\n",
       "      <td>0</td>\n",
       "      <td>0</td>\n",
       "      <td>0</td>\n",
       "      <td>0</td>\n",
       "      <td>0</td>\n",
       "      <td>...</td>\n",
       "      <td>0</td>\n",
       "      <td>0</td>\n",
       "      <td>0</td>\n",
       "      <td>0</td>\n",
       "      <td>0</td>\n",
       "      <td>0</td>\n",
       "      <td>1</td>\n",
       "      <td>0</td>\n",
       "      <td>1588.0</td>\n",
       "      <td>5653.0</td>\n",
       "    </tr>\n",
       "    <tr>\n",
       "      <td>209</td>\n",
       "      <td>1</td>\n",
       "      <td>0</td>\n",
       "      <td>0</td>\n",
       "      <td>0</td>\n",
       "      <td>0</td>\n",
       "      <td>0</td>\n",
       "      <td>0</td>\n",
       "      <td>0</td>\n",
       "      <td>0</td>\n",
       "      <td>0</td>\n",
       "      <td>...</td>\n",
       "      <td>0</td>\n",
       "      <td>0</td>\n",
       "      <td>0</td>\n",
       "      <td>0</td>\n",
       "      <td>0</td>\n",
       "      <td>0</td>\n",
       "      <td>1</td>\n",
       "      <td>0</td>\n",
       "      <td>1588.0</td>\n",
       "      <td>5653.0</td>\n",
       "    </tr>\n",
       "    <tr>\n",
       "      <td>222</td>\n",
       "      <td>1</td>\n",
       "      <td>0</td>\n",
       "      <td>0</td>\n",
       "      <td>0</td>\n",
       "      <td>0</td>\n",
       "      <td>0</td>\n",
       "      <td>0</td>\n",
       "      <td>0</td>\n",
       "      <td>0</td>\n",
       "      <td>0</td>\n",
       "      <td>...</td>\n",
       "      <td>0</td>\n",
       "      <td>0</td>\n",
       "      <td>0</td>\n",
       "      <td>0</td>\n",
       "      <td>0</td>\n",
       "      <td>0</td>\n",
       "      <td>9</td>\n",
       "      <td>0</td>\n",
       "      <td>1566.0</td>\n",
       "      <td>6330.0</td>\n",
       "    </tr>\n",
       "    <tr>\n",
       "      <td>223</td>\n",
       "      <td>1</td>\n",
       "      <td>0</td>\n",
       "      <td>0</td>\n",
       "      <td>0</td>\n",
       "      <td>0</td>\n",
       "      <td>0</td>\n",
       "      <td>0</td>\n",
       "      <td>0</td>\n",
       "      <td>0</td>\n",
       "      <td>0</td>\n",
       "      <td>...</td>\n",
       "      <td>0</td>\n",
       "      <td>0</td>\n",
       "      <td>0</td>\n",
       "      <td>0</td>\n",
       "      <td>0</td>\n",
       "      <td>0</td>\n",
       "      <td>9</td>\n",
       "      <td>0</td>\n",
       "      <td>1566.0</td>\n",
       "      <td>6330.0</td>\n",
       "    </tr>\n",
       "  </tbody>\n",
       "</table>\n",
       "<p>5 rows × 560 columns</p>\n",
       "</div>"
      ],
      "text/plain": [
       "     BOROUGH_1  BOROUGH_2  BOROUGH_3  BOROUGH_4  BOROUGH_5  \\\n",
       "207          1          0          0          0          0   \n",
       "208          1          0          0          0          0   \n",
       "209          1          0          0          0          0   \n",
       "222          1          0          0          0          0   \n",
       "223          1          0          0          0          0   \n",
       "\n",
       "     NEIGHBORHOOD_AIRPORT LA GUARDIA  NEIGHBORHOOD_ANNADALE  \\\n",
       "207                                0                      0   \n",
       "208                                0                      0   \n",
       "209                                0                      0   \n",
       "222                                0                      0   \n",
       "223                                0                      0   \n",
       "\n",
       "     NEIGHBORHOOD_ARDEN HEIGHTS  NEIGHBORHOOD_ARROCHAR  \\\n",
       "207                           0                      0   \n",
       "208                           0                      0   \n",
       "209                           0                      0   \n",
       "222                           0                      0   \n",
       "223                           0                      0   \n",
       "\n",
       "     NEIGHBORHOOD_ARROCHAR-SHORE ACRES  ...  \\\n",
       "207                                  0  ...   \n",
       "208                                  0  ...   \n",
       "209                                  0  ...   \n",
       "222                                  0  ...   \n",
       "223                                  0  ...   \n",
       "\n",
       "     BUILDING_CLASS_AT_TIME_OF_SALE_W4  BUILDING_CLASS_AT_TIME_OF_SALE_W8  \\\n",
       "207                                  0                                  0   \n",
       "208                                  0                                  0   \n",
       "209                                  0                                  0   \n",
       "222                                  0                                  0   \n",
       "223                                  0                                  0   \n",
       "\n",
       "     BUILDING_CLASS_AT_TIME_OF_SALE_W9  BUILDING_CLASS_AT_TIME_OF_SALE_Y1  \\\n",
       "207                                  0                                  0   \n",
       "208                                  0                                  0   \n",
       "209                                  0                                  0   \n",
       "222                                  0                                  0   \n",
       "223                                  0                                  0   \n",
       "\n",
       "     BUILDING_CLASS_AT_TIME_OF_SALE_Z0  BUILDING_CLASS_AT_TIME_OF_SALE_Z9  \\\n",
       "207                                  0                                  0   \n",
       "208                                  0                                  0   \n",
       "209                                  0                                  0   \n",
       "222                                  0                                  0   \n",
       "223                                  0                                  0   \n",
       "\n",
       "     RESIDENTIAL_UNITS  COMMERCIAL_UNITS  LAND_SQUARE_FEET  GROSS_SQUARE_FEET  \n",
       "207                  1                 0            1588.0             5653.0  \n",
       "208                  1                 0            1588.0             5653.0  \n",
       "209                  1                 0            1588.0             5653.0  \n",
       "222                  9                 0            1566.0             6330.0  \n",
       "223                  9                 0            1566.0             6330.0  \n",
       "\n",
       "[5 rows x 560 columns]"
      ]
     },
     "execution_count": 351,
     "metadata": {},
     "output_type": "execute_result"
    }
   ],
   "source": [
    "X.head()"
   ]
  },
  {
   "cell_type": "code",
   "execution_count": 352,
   "metadata": {},
   "outputs": [
    {
     "data": {
      "text/html": [
       "<div>\n",
       "<style scoped>\n",
       "    .dataframe tbody tr th:only-of-type {\n",
       "        vertical-align: middle;\n",
       "    }\n",
       "\n",
       "    .dataframe tbody tr th {\n",
       "        vertical-align: top;\n",
       "    }\n",
       "\n",
       "    .dataframe thead th {\n",
       "        text-align: right;\n",
       "    }\n",
       "</style>\n",
       "<table border=\"1\" class=\"dataframe\">\n",
       "  <thead>\n",
       "    <tr style=\"text-align: right;\">\n",
       "      <th></th>\n",
       "      <th>RESIDENTIAL_UNITS</th>\n",
       "      <th>COMMERCIAL_UNITS</th>\n",
       "      <th>LAND_SQUARE_FEET</th>\n",
       "      <th>GROSS_SQUARE_FEET</th>\n",
       "    </tr>\n",
       "  </thead>\n",
       "  <tbody>\n",
       "    <tr>\n",
       "      <td>RESIDENTIAL_UNITS</td>\n",
       "      <td>1.000000</td>\n",
       "      <td>0.009171</td>\n",
       "      <td>0.654991</td>\n",
       "      <td>0.870247</td>\n",
       "    </tr>\n",
       "    <tr>\n",
       "      <td>COMMERCIAL_UNITS</td>\n",
       "      <td>0.009171</td>\n",
       "      <td>1.000000</td>\n",
       "      <td>0.029186</td>\n",
       "      <td>0.023776</td>\n",
       "    </tr>\n",
       "    <tr>\n",
       "      <td>LAND_SQUARE_FEET</td>\n",
       "      <td>0.654991</td>\n",
       "      <td>0.029186</td>\n",
       "      <td>1.000000</td>\n",
       "      <td>0.791965</td>\n",
       "    </tr>\n",
       "    <tr>\n",
       "      <td>GROSS_SQUARE_FEET</td>\n",
       "      <td>0.870247</td>\n",
       "      <td>0.023776</td>\n",
       "      <td>0.791965</td>\n",
       "      <td>1.000000</td>\n",
       "    </tr>\n",
       "  </tbody>\n",
       "</table>\n",
       "</div>"
      ],
      "text/plain": [
       "                   RESIDENTIAL_UNITS  COMMERCIAL_UNITS  LAND_SQUARE_FEET  \\\n",
       "RESIDENTIAL_UNITS           1.000000          0.009171          0.654991   \n",
       "COMMERCIAL_UNITS            0.009171          1.000000          0.029186   \n",
       "LAND_SQUARE_FEET            0.654991          0.029186          1.000000   \n",
       "GROSS_SQUARE_FEET           0.870247          0.023776          0.791965   \n",
       "\n",
       "                   GROSS_SQUARE_FEET  \n",
       "RESIDENTIAL_UNITS           0.870247  \n",
       "COMMERCIAL_UNITS            0.023776  \n",
       "LAND_SQUARE_FEET            0.791965  \n",
       "GROSS_SQUARE_FEET           1.000000  "
      ]
     },
     "execution_count": 352,
     "metadata": {},
     "output_type": "execute_result"
    }
   ],
   "source": [
    "#Correlation\n",
    "# df_cnt.corr().style.background_gradient('twilight_shifted', axis = None)\n",
    "df_cnt.corr()"
   ]
  },
  {
   "cell_type": "code",
   "execution_count": 353,
   "metadata": {},
   "outputs": [
    {
     "data": {
      "text/plain": [
       "((36128, 560), (36128, 1))"
      ]
     },
     "execution_count": 353,
     "metadata": {},
     "output_type": "execute_result"
    }
   ],
   "source": [
    "X.shape, y.shape"
   ]
  },
  {
   "cell_type": "code",
   "execution_count": 354,
   "metadata": {},
   "outputs": [],
   "source": [
    "# Train-test split\n",
    "X_train, X_test, y_train, y_test = train_test_split(X, y, test_size = 0.4, random_state = 42)"
   ]
  },
  {
   "cell_type": "markdown",
   "metadata": {},
   "source": [
    "**LINEAR REGRESSION**"
   ]
  },
  {
   "cell_type": "code",
   "execution_count": 355,
   "metadata": {},
   "outputs": [],
   "source": [
    "# Initialize model\n",
    "model = LinearRegression() "
   ]
  },
  {
   "cell_type": "code",
   "execution_count": 356,
   "metadata": {},
   "outputs": [
    {
     "data": {
      "text/plain": [
       "LinearRegression(copy_X=True, fit_intercept=True, n_jobs=None, normalize=False)"
      ]
     },
     "execution_count": 356,
     "metadata": {},
     "output_type": "execute_result"
    }
   ],
   "source": [
    "# Fit Model\n",
    "model.fit(X_train, y_train)"
   ]
  },
  {
   "cell_type": "code",
   "execution_count": 357,
   "metadata": {},
   "outputs": [],
   "source": [
    "# get coefficients\n",
    "coefficient = model.coef_\n",
    "\n",
    "# get intercept\n",
    "intercept = model.intercept_"
   ]
  },
  {
   "cell_type": "code",
   "execution_count": 358,
   "metadata": {},
   "outputs": [
    {
     "data": {
      "text/plain": [
       "array([[-2.55303156e+06,  8.98765231e+11, -7.71929446e+11,\n",
       "        -7.71928195e+11, -7.71928511e+11,  2.57640151e+11,\n",
       "         2.57640289e+11,  2.57640188e+11,  2.57640322e+11,\n",
       "         2.57640145e+11,  2.57639720e+11,  2.57640350e+11,\n",
       "         2.57641594e+11, -1.41305347e+12,  2.57641622e+11,\n",
       "        -1.41305363e+12,  2.57640298e+11, -1.41305345e+12,\n",
       "         2.57641709e+11,  2.57640360e+11,  2.57640240e+11,\n",
       "         2.57639954e+11, -1.41305358e+12,  2.57641664e+11,\n",
       "         2.57641311e+11,  2.57642141e+11,  2.57641693e+11,\n",
       "         2.57640104e+11,  2.57641585e+11,  2.57639702e+11,\n",
       "        -1.41305353e+12, -1.41305356e+12,  2.57642359e+11,\n",
       "         2.57641090e+11,  2.57640223e+11,  2.57641387e+11,\n",
       "         2.57641484e+11,  2.57639816e+11,  2.57641141e+11,\n",
       "         2.57642414e+11, -1.41305359e+12,  2.57640271e+11,\n",
       "        -5.14286349e+11, -5.14284889e+11, -1.41305340e+12,\n",
       "        -1.41305323e+12, -5.14287050e+11,  2.57641960e+11,\n",
       "         2.57640261e+11, -1.41305469e+12,  2.57642061e+11,\n",
       "         2.57641978e+11,  2.57640154e+11,  2.57640078e+11,\n",
       "         2.57640144e+11,  2.57641429e+11,  2.57640175e+11,\n",
       "        -1.41305346e+12, -1.41305371e+12,  2.57641592e+11,\n",
       "         2.57641105e+11,  2.57640314e+11,  2.57640520e+11,\n",
       "         2.57640181e+11,  2.57640350e+11,  2.57642448e+11,\n",
       "         2.57642280e+11,  2.57641822e+11,  2.57641684e+11,\n",
       "         2.57640037e+11,  2.57641053e+11, -1.41305352e+12,\n",
       "        -5.14285277e+11,  2.57640238e+11,  2.57640263e+11,\n",
       "         2.57640496e+11,  2.57639821e+11, -1.48381569e+11,\n",
       "        -1.41305315e+12,  2.57641603e+11,  2.57641186e+11,\n",
       "         2.57641830e+11,  2.57641235e+11, -5.14285838e+11,\n",
       "         2.57641170e+11,  2.57640056e+11,  2.57640332e+11,\n",
       "         2.57640191e+11, -1.41305342e+12,  2.57640472e+11,\n",
       "         2.57641908e+11,  2.57639524e+11,  2.57640262e+11,\n",
       "         2.57641067e+11,  2.57640019e+11,  2.57640082e+11,\n",
       "         2.57642095e+11, -5.14287136e+11,  2.57640245e+11,\n",
       "         2.57640304e+11,  2.57641503e+11,  2.57640249e+11,\n",
       "         2.57640276e+11,  2.57641995e+11, -5.14287116e+11,\n",
       "        -5.14285710e+11,  2.57640139e+11,  2.57639894e+11,\n",
       "        -5.14284696e+11, -5.14285032e+11, -5.14284880e+11,\n",
       "        -5.14284399e+11, -1.41305352e+12,  2.57640047e+11,\n",
       "         2.57639841e+11,  2.57640294e+11,  2.57640288e+11,\n",
       "         2.57639963e+11,  2.57640318e+11, -1.41305354e+12,\n",
       "        -5.14285586e+11,  2.57640061e+11,  2.57639986e+11,\n",
       "         2.57639693e+11,  2.57640335e+11,  2.57640020e+11,\n",
       "         2.57641721e+11,  2.57640158e+11, -1.41305348e+12,\n",
       "        -1.41305336e+12,  2.57639833e+11,  2.57640269e+11,\n",
       "         2.57640253e+11,  2.57640343e+11,  2.57641543e+11,\n",
       "         2.57641892e+11, -5.14286164e+11,  2.57640268e+11,\n",
       "         2.57641304e+11,  2.57640058e+11,  2.57640085e+11,\n",
       "        -1.41305345e+12,  2.57640134e+11,  2.57640203e+11,\n",
       "        -5.14285718e+11, -5.14286900e+11,  2.57641663e+11,\n",
       "         2.57641469e+11, -1.41305357e+12, -1.41305356e+12,\n",
       "        -1.41305347e+12, -1.41305351e+12,  1.87399639e+09,\n",
       "         2.57641941e+11,  2.57640334e+11,  2.57640053e+11,\n",
       "        -5.13250225e+08,  2.57640238e+11,  2.57640156e+11,\n",
       "         2.57640322e+11,  2.57640321e+11,  2.57640261e+11,\n",
       "         2.57640288e+11,  2.57640243e+11,  2.57641313e+11,\n",
       "         2.57641676e+11,  2.57641610e+11,  2.57641193e+11,\n",
       "         2.57639871e+11,  2.57642242e+11,  2.57642153e+11,\n",
       "        -1.41305367e+12, -1.41305411e+12, -1.41305353e+12,\n",
       "        -1.41305355e+12, -1.41305342e+12,  2.57640406e+11,\n",
       "         2.57640004e+11,  2.57640027e+11,  2.57640339e+11,\n",
       "         2.57642041e+11,  2.57639841e+11,  2.57641930e+11,\n",
       "         2.57640333e+11,  2.57639896e+11,  2.57640394e+11,\n",
       "         2.57640466e+11,  2.57640240e+11, -1.41305317e+12,\n",
       "         2.57639824e+11,  2.57640205e+11,  2.57639851e+11,\n",
       "         2.57640336e+11,  2.57640245e+11,  2.57640294e+11,\n",
       "         2.57640083e+11, -1.41305356e+12,  2.57641305e+11,\n",
       "         2.57641426e+11,  2.57640300e+11,  2.57639778e+11,\n",
       "         1.82935531e+09, -1.41305361e+12,  2.57640218e+11,\n",
       "         2.57639759e+11,  2.57639844e+11,  2.57641158e+11,\n",
       "         2.57639822e+11,  2.57639793e+11,  2.57640010e+11,\n",
       "         2.57640170e+11,  2.57640281e+11,  2.57641693e+11,\n",
       "        -1.41305356e+12,  2.57640826e+11,  2.57640179e+11,\n",
       "         2.57640277e+11,  2.57640217e+11, -5.14286366e+11,\n",
       "        -5.14285605e+11, -5.14285360e+11, -5.14285414e+11,\n",
       "        -5.14285593e+11, -2.45624754e+08, -1.41305330e+12,\n",
       "        -1.41305366e+12, -5.14284800e+11, -5.14285262e+11,\n",
       "         2.57640135e+11, -1.41305360e+12,  2.57640260e+11,\n",
       "         2.57640320e+11, -1.41305366e+12,  2.57641513e+11,\n",
       "         2.57641862e+11,  2.57642108e+11,  2.57642088e+11,\n",
       "         2.57640328e+11,  2.57641952e+11,  2.57639943e+11,\n",
       "        -1.41305347e+12,  2.57640288e+11,  2.57640215e+11,\n",
       "         2.57641617e+11,  1.32887510e+10,  1.77144115e+08,\n",
       "         7.06718372e+08,  5.82914870e+09,  1.75822513e+09,\n",
       "        -7.74123011e+08,  1.06627039e+09,  3.61354120e+09,\n",
       "        -4.49719558e+08, -3.39512543e+10, -2.23957597e+08,\n",
       "         2.66216918e+09,  2.24074046e+09,  2.90042593e+09,\n",
       "         2.79969430e+09,  2.77228012e+09,  1.44425024e+09,\n",
       "         1.71580669e+09,  4.88131527e+09,  4.17035145e+09,\n",
       "        -7.05273286e+10, -1.63879623e+09,  3.78341087e+09,\n",
       "         1.47659733e+09,  5.07460106e+09,  3.59658209e+09,\n",
       "         1.90675230e+09,  3.94311042e+09,  3.48592604e+09,\n",
       "         3.62148767e+09, -3.61692223e+08,  2.86673578e+09,\n",
       "         3.01345116e+09,  1.26936894e+09,  1.11491700e+08,\n",
       "         2.06330757e+09,  1.84160462e+09,  1.14043117e+09,\n",
       "         2.28864965e+09,  1.24659656e+09,  2.07646324e+09,\n",
       "         1.51638526e+09,  1.49571424e+09,  6.34788899e+09,\n",
       "         2.03984032e+10,  7.03939329e+09,  1.06333032e+10,\n",
       "         7.03582379e+09,  1.28303474e+10,  1.28300783e+10,\n",
       "         1.28301655e+10,  1.28303394e+10,  1.21286392e+10,\n",
       "         8.10496888e+09, -3.61826412e+09, -3.61827081e+09,\n",
       "        -3.61825257e+09, -3.61866277e+09, -3.61710906e+09,\n",
       "        -3.61781688e+09, -8.15729407e+09, -7.71257248e+09,\n",
       "        -3.61785944e+09, -3.61897187e+09, -3.61853885e+09,\n",
       "        -3.61817381e+09, -3.61856465e+09, -3.61840006e+09,\n",
       "         2.17428182e+09,  2.90860894e+09,  3.94910273e+09,\n",
       "         3.77064463e+09,  1.74532885e+09,  3.46662800e+09,\n",
       "         1.97244092e+09,  2.71116787e+09,  1.77873297e+09,\n",
       "         2.14410875e+09,  1.95782327e+10,  7.67558380e+08,\n",
       "         3.95028396e+09,  2.04763203e+10,  3.94937764e+09,\n",
       "        -8.94073002e+07,  6.00315749e+08,  1.17478265e+09,\n",
       "         1.26118004e+09,  1.13589537e+09,  1.17592781e+09,\n",
       "         9.44830789e+08,  8.10963772e+08,  1.66565922e+09,\n",
       "         9.02966331e+08, -5.76886549e+08,  2.34902531e+08,\n",
       "         2.34221565e+08,  5.24243262e+08,  2.72907058e+08,\n",
       "         3.17082966e+08,  4.53511332e+08,  2.63044920e+08,\n",
       "         5.30442947e+08,  1.92460556e+08,  2.35362876e+08,\n",
       "         3.66387469e+09,  3.29295748e+09,  3.54994480e+09,\n",
       "         8.03905564e+08,  8.57631429e+08,  4.61171050e+08,\n",
       "         4.88384871e+08,  1.19033742e+09,  2.07728230e+08,\n",
       "         6.47558253e+08,  5.82226979e+08,  1.04023926e+09,\n",
       "         4.23985994e+08,  5.19606512e+08,  4.53456844e+08,\n",
       "         2.86186218e-01,  2.22794437e+08, -1.44892714e+11,\n",
       "         3.84528316e+10,  3.78151561e+10,  4.64981429e+09,\n",
       "         1.37468944e+09,  1.31264653e+09,  1.71990854e+09,\n",
       "         1.31025588e+09,  1.53000767e+09,  4.49357662e+08,\n",
       "         8.13059527e+08,  4.87422723e+08, -2.35316696e+08,\n",
       "         3.07751899e+08, -1.20272043e+08,  6.92665476e+08,\n",
       "         9.20463763e+08,  9.01495917e+08,  2.24705543e-02,\n",
       "         9.19301177e+08,  1.07057771e+09, -2.29486689e-02,\n",
       "         1.87684188e-02,  1.62234835e+09,  1.32500432e+09,\n",
       "         7.41356264e+09,  1.62246397e+09,  2.32247058e+09,\n",
       "         7.41677750e+09,  1.62202257e+09,  1.58733720e+09,\n",
       "         1.87514565e+09,  2.32403042e+09,  2.32404229e+09,\n",
       "         2.17317419e+09,  2.32409194e+09,  1.11438856e+09,\n",
       "         2.32370612e+09,  2.03754340e+09,  2.04784997e+09,\n",
       "        -7.84627807e+09, -8.30710115e+09, -3.61847928e+09,\n",
       "         8.80183877e+08,  3.94818042e+09,  1.13573600e+09,\n",
       "         1.13487369e+09,  2.16144365e+09,  6.14630159e+09,\n",
       "         4.65113153e+09,  2.70086657e+09,  2.58432265e+09,\n",
       "         1.84251374e+09,  1.51139714e+09,  6.53688749e+08,\n",
       "         1.12972414e+09,  0.00000000e+00,  1.13011096e+09,\n",
       "         9.51091089e+08,  0.00000000e+00, -9.04788012e+08,\n",
       "         1.76480960e+09, -1.23474516e+10, -1.23473847e+10,\n",
       "        -1.23474664e+10, -1.23465184e+10, -1.23484425e+10,\n",
       "        -1.23479283e+10, -7.80862303e+09, -8.25223241e+09,\n",
       "        -1.23479195e+10,  7.64982748e+08,  7.64552141e+08,\n",
       "         7.64167866e+08,  7.64535552e+08,  2.34924270e+08,\n",
       "         1.65150863e+09,  9.16931108e+08, -1.23740664e+08,\n",
       "         5.51522524e+07,  2.07968204e+09,  1.87360260e+09,\n",
       "         1.85327771e+09,  2.62924633e+09,  2.04602784e+09,\n",
       "         1.68083982e+09,  1.92638417e+10,  5.09988201e+08,\n",
       "         1.83655148e+10, -2.67171332e+09,  0.00000000e+00,\n",
       "         6.77892649e+08,  8.22174625e+08,  7.35530206e+08,\n",
       "         8.60943312e+08,  6.34327732e+08,  8.64753015e+08,\n",
       "         9.99375806e+08,  1.44063433e+08,  9.06720234e+08,\n",
       "        -1.32602057e+09,  2.83862935e+08,  2.84493900e+08,\n",
       "        -5.66813794e+06,  2.45689183e+08,  2.00511433e+08,\n",
       "         6.48069141e+07,  2.56117528e+08, -1.17590247e+07,\n",
       "         3.26914871e+08,  2.83163280e+08,  3.56818312e+09,\n",
       "         0.00000000e+00,  3.93906553e+09,  3.68054058e+09,\n",
       "         8.45184446e+08,  7.93032379e+08,  1.19103288e+09,\n",
       "         1.16092954e+09,  4.59595977e+08,  1.21521963e+09,\n",
       "         7.75236080e+08,  8.41661984e+08,  3.82711456e+08,\n",
       "         9.98694657e+08,  9.02037605e+08,  9.70867646e+08,\n",
       "         0.00000000e+00,  1.20022977e+09, -1.44892714e+11,\n",
       "         3.76677097e+10,  3.83050911e+10, -1.92321447e+09,\n",
       "         1.35123530e+09,  1.41370784e+09,  1.00588892e+09,\n",
       "         1.26866514e+09,  1.05024739e+09,  2.62243908e+08,\n",
       "        -1.01379708e+08,  2.22125255e+08,  9.47381457e+08,\n",
       "         4.01711938e+08,  8.32019478e+08,  1.90599483e+07,\n",
       "         1.05097836e+09,  1.06990594e+09,  0.00000000e+00,\n",
       "         1.05024935e+09,  9.03092005e+08,  0.00000000e+00,\n",
       "         0.00000000e+00,  4.96226551e+08,  1.32500432e+09,\n",
       "        -2.56091772e+09,  3.68063424e+08,  1.79227039e+09,\n",
       "        -2.56028380e+09,  1.82471973e+09,  1.58733720e+09,\n",
       "         1.87514565e+09,  2.12787387e+09,  9.79050613e+08,\n",
       "         2.17317419e+09,  9.79136375e+08,  1.11438856e+09,\n",
       "         1.19141149e+09,  2.03754340e+09,  2.04784997e+09,\n",
       "        -8.11942606e+09, -7.65858948e+09,  7.64566262e+08,\n",
       "         1.21153905e+09, -1.85593275e+09,  9.56222748e+08,\n",
       "         9.57164680e+08,  2.16144365e+09, -8.16444892e+08,\n",
       "        -9.65106395e+08,  2.62848996e+09,  2.74461710e+09,\n",
       "         1.84312338e+09,  5.94480313e+08,  1.45316643e+09,\n",
       "         9.77166163e+08,  0.00000000e+00,  9.76467736e+08,\n",
       "         1.15547571e+09,  0.00000000e+00, -9.96304139e+08,\n",
       "         1.76480960e+09, -2.81576013e+03,  6.99123477e+04,\n",
       "        -1.96105957e-01,  1.38256836e+00]])"
      ]
     },
     "execution_count": 358,
     "metadata": {},
     "output_type": "execute_result"
    }
   ],
   "source": [
    "# print coefficient\n",
    "coefficient"
   ]
  },
  {
   "cell_type": "code",
   "execution_count": 359,
   "metadata": {},
   "outputs": [
    {
     "data": {
      "text/plain": [
       "array([4.96567302e+11])"
      ]
     },
     "execution_count": 359,
     "metadata": {},
     "output_type": "execute_result"
    }
   ],
   "source": [
    "# print intercept\n",
    "intercept"
   ]
  },
  {
   "cell_type": "code",
   "execution_count": 360,
   "metadata": {},
   "outputs": [
    {
     "data": {
      "text/plain": [
       "-526819396.49761206"
      ]
     },
     "execution_count": 360,
     "metadata": {},
     "output_type": "execute_result"
    }
   ],
   "source": [
    "# calculate the R-squared\n",
    "model.score(X_test, y_test)"
   ]
  },
  {
   "cell_type": "code",
   "execution_count": 361,
   "metadata": {},
   "outputs": [],
   "source": [
    "y_predicted = model.predict(X_test)"
   ]
  },
  {
   "cell_type": "code",
   "execution_count": 362,
   "metadata": {},
   "outputs": [
    {
     "data": {
      "text/html": [
       "<div>\n",
       "<style scoped>\n",
       "    .dataframe tbody tr th:only-of-type {\n",
       "        vertical-align: middle;\n",
       "    }\n",
       "\n",
       "    .dataframe tbody tr th {\n",
       "        vertical-align: top;\n",
       "    }\n",
       "\n",
       "    .dataframe thead th {\n",
       "        text-align: right;\n",
       "    }\n",
       "</style>\n",
       "<table border=\"1\" class=\"dataframe\">\n",
       "  <thead>\n",
       "    <tr style=\"text-align: right;\">\n",
       "      <th></th>\n",
       "      <th>Features</th>\n",
       "      <th>Coefficients</th>\n",
       "    </tr>\n",
       "  </thead>\n",
       "  <tbody>\n",
       "    <tr>\n",
       "      <td>0</td>\n",
       "      <td>BOROUGH_1</td>\n",
       "      <td>[-2553031557.202231, 898765230809281.2, -77192...</td>\n",
       "    </tr>\n",
       "  </tbody>\n",
       "</table>\n",
       "</div>"
      ],
      "text/plain": [
       "    Features                                       Coefficients\n",
       "0  BOROUGH_1  [-2553031557.202231, 898765230809281.2, -77192..."
      ]
     },
     "execution_count": 362,
     "metadata": {},
     "output_type": "execute_result"
    }
   ],
   "source": [
    "# put coefficients into dataframe\n",
    "# pair the feature names with the coefficients\n",
    "coefficients_pd = pd.DataFrame((list(zip(Features, model.coef_ * 1000))), columns = ['Features', 'Coefficients'])\n",
    "\n",
    "# print table of coefficients for contribution chart\n",
    "coefficients_pd"
   ]
  },
  {
   "cell_type": "code",
   "execution_count": 363,
   "metadata": {},
   "outputs": [
    {
     "data": {
      "text/plain": [
       "11548036917.471104"
      ]
     },
     "execution_count": 363,
     "metadata": {},
     "output_type": "execute_result"
    }
   ],
   "source": [
    "# Root mean squared error\n",
    "linear_rmse = np.sqrt(mse(y_predicted, y_test)) \n",
    "linear_rmse"
   ]
  },
  {
   "cell_type": "markdown",
   "metadata": {},
   "source": [
    "**RIDGE REGRESSION**"
   ]
  },
  {
   "cell_type": "code",
   "execution_count": 364,
   "metadata": {},
   "outputs": [
    {
     "data": {
      "text/plain": [
       "Ridge(alpha=1.0, copy_X=True, fit_intercept=True, max_iter=None,\n",
       "      normalize=False, random_state=None, solver='auto', tol=0.001)"
      ]
     },
     "execution_count": 364,
     "metadata": {},
     "output_type": "execute_result"
    }
   ],
   "source": [
    "from sklearn.linear_model import Ridge\n",
    "n_samples, n_features = 36128, 560\n",
    "rng = np.random.RandomState(0)\n",
    "y = rng.randn(n_samples)\n",
    "X = rng.randn(n_samples, n_features)\n",
    "model_ridge = Ridge(alpha = 1.0)\n",
    "model_ridge.fit(X_train,y_train)"
   ]
  },
  {
   "cell_type": "code",
   "execution_count": 365,
   "metadata": {},
   "outputs": [
    {
     "data": {
      "text/plain": [
       "array([[-4.09691787e+04, -1.67328974e+05,  3.30701011e+05,\n",
       "         4.62649503e+04, -1.68667808e+05,  2.59987029e+04,\n",
       "         6.92120783e+04, -2.90614840e+04,  9.77426633e+04,\n",
       "        -6.54662019e+04, -3.91032152e+05,  2.32875455e+05,\n",
       "        -5.93264571e+04,  5.16488467e+04, -2.99985379e+04,\n",
       "        -1.11316170e+05,  1.80719402e+05,  7.28787430e+04,\n",
       "         5.57667335e+04,  2.32970587e+05,  1.24780010e+05,\n",
       "        -1.60843963e+05, -4.80771011e+04,  1.04443622e+04,\n",
       "        -3.36892009e+05,  4.72345218e+05,  3.81457448e+04,\n",
       "        -1.21372435e+04, -7.53082389e+04, -3.95795092e+05,\n",
       "        -4.53921580e+03, -3.67033806e+04,  6.93318402e+05,\n",
       "        -5.55281350e+05,  5.69933345e+03, -2.51980360e+05,\n",
       "        -1.68999894e+05, -2.96166695e+05, -5.09309134e+05,\n",
       "         7.45313488e+05, -6.10632104e+04,  4.87420566e+04,\n",
       "        -5.25372231e+05,  5.46310861e+05,  1.16017856e+05,\n",
       "         1.46215174e+05, -9.02852509e+05,  3.01837460e+05,\n",
       "         4.18861534e+04, -5.71211427e+05,  3.94584216e+05,\n",
       "         3.09264820e+05,  3.84409340e+04, -1.37583192e+05,\n",
       "        -6.70053872e+04, -2.24536684e+05,  5.76534123e+04,\n",
       "         6.35624100e+04, -1.79632078e+05, -6.12454821e+04,\n",
       "        -5.42751297e+05,  9.27342420e+04,  2.89026413e+05,\n",
       "        -3.05506556e+04,  2.28416514e+05,  7.79346495e+05,\n",
       "         6.11840530e+05,  1.51194495e+05,  3.24700914e+04,\n",
       "        -7.88507884e+04, -5.97111039e+05, -1.74622729e+03,\n",
       "         2.33326774e+05,  1.20654965e+05,  4.52742840e+04,\n",
       "         2.39198780e+05, -2.89066806e+05, -2.95888134e+05,\n",
       "         3.51485220e+05, -4.91877311e+04, -4.64265654e+05,\n",
       "         1.68541282e+05, -4.16027941e+05, -3.33614135e+05,\n",
       "        -4.77148909e+05, -6.20270226e+04,  2.14976164e+05,\n",
       "         7.37341815e+04,  1.02115061e+05,  3.49765663e+05,\n",
       "         2.47844218e+05, -3.29648699e+05,  1.43071322e+05,\n",
       "        -5.72160701e+05, -8.30985177e+04, -2.85497388e+04,\n",
       "         4.33166573e+05, -7.27174006e+05,  2.68304028e+04,\n",
       "         8.35953764e+04, -1.51568279e+05,  3.23024935e+04,\n",
       "         5.51128727e+04,  3.35960455e+05, -6.81563598e+05,\n",
       "        -5.90310287e+04, -7.66085759e+04, -2.12018187e+05,\n",
       "         8.98387358e+05,  5.88716668e+05,  7.25750539e+05,\n",
       "         8.85088058e+05, -2.66029350e+03, -6.65620282e+04,\n",
       "        -2.72826965e+05,  1.67245644e+05,  1.64895111e+05,\n",
       "        -1.49967960e+05,  9.71645599e+04, -3.01408260e+02,\n",
       "         4.48834753e+04, -5.72704299e+04, -1.26851815e+05,\n",
       "        -4.82887824e+05,  2.14561536e+05, -9.18426949e+04,\n",
       "         6.32668564e+04,  3.90951752e+04,  3.78764841e+04,\n",
       "         1.69549850e+05, -2.80247327e+05,  1.52816270e+05,\n",
       "         3.09902131e+04,  2.27333035e+05, -1.09268383e+05,\n",
       "         2.32251793e+05, -3.88885444e+05,  4.93915482e+04,\n",
       "        -3.46580284e+05, -1.57830253e+05, -3.10376326e+04,\n",
       "         7.04223505e+04,  1.74373453e+04, -1.45187746e+04,\n",
       "         2.73557101e+04, -7.72700078e+05,  8.48620039e+03,\n",
       "        -1.77789668e+05, -4.71872591e+04, -3.41817141e+04,\n",
       "         6.93602752e+04,  1.09282098e+04,  0.00000000e+00,\n",
       "         2.75689923e+05,  2.03826776e+05, -1.62176964e+05,\n",
       "         0.00000000e+00,  2.04086890e+04, -6.06539751e+04,\n",
       "         1.01743718e+05,  1.06467738e+05,  1.41831161e+05,\n",
       "         6.58926696e+04,  2.47191848e+04, -3.38262226e+05,\n",
       "         2.41002569e+04, -4.20316055e+04, -4.55966867e+05,\n",
       "        -2.44385521e+05,  5.82889863e+05,  4.91297975e+05,\n",
       "        -1.51800284e+05, -2.77984040e+05, -6.69634575e+03,\n",
       "        -1.88184050e+04,  1.02140141e+05,  1.80479247e+05,\n",
       "        -2.10414694e+05, -1.88515813e+05,  1.18766986e+05,\n",
       "         3.81103587e+05, -2.73730505e+05,  2.68108810e+05,\n",
       "         2.13002937e+05, -2.18615279e+05,  1.71591806e+05,\n",
       "         2.06214160e+05,  1.24298516e+05,  3.46031353e+05,\n",
       "        -2.80949542e+05, -1.13830191e+04, -2.63101431e+05,\n",
       "         1.12914007e+05,  2.69819037e+04,  5.63356904e+04,\n",
       "        -1.10640818e+05, -3.88016804e+04, -3.29952027e+05,\n",
       "        -2.26982766e+05,  7.83492156e+04, -3.37331664e+05,\n",
       "         0.00000000e+00, -9.06411069e+04,  3.88526873e+02,\n",
       "        -3.55777537e+05, -2.71041072e+05, -4.79220287e+05,\n",
       "        -2.91662420e+05, -3.21716862e+05, -2.03550939e+05,\n",
       "        -4.57429997e+04,  1.28064109e+05,  4.06770074e+04,\n",
       "        -3.70438656e+04,  5.56510102e+05, -3.48885228e+04,\n",
       "         5.84155416e+04,  1.02755192e+03, -5.65227523e+05,\n",
       "         3.40071267e+04,  1.41125206e+05,  1.55815641e+05,\n",
       "         5.30869917e+03,  0.00000000e+00,  1.47113532e+05,\n",
       "        -1.37863854e+05,  6.92820250e+05,  2.32443140e+05,\n",
       "        -8.01887612e+04, -7.60726546e+04,  4.50117413e+04,\n",
       "         2.02285753e+05, -1.38616905e+05, -1.44003678e+05,\n",
       "         2.05598590e+05,  4.42022096e+05,  4.24012918e+05,\n",
       "         1.09113032e+05,  2.93546340e+05, -1.71914169e+05,\n",
       "         4.82841466e+04,  6.91565980e+04,  9.67419558e+04,\n",
       "        -3.01287586e+04, -1.61105417e+05, -1.01259687e+05,\n",
       "        -5.58457033e+04, -2.62043847e+04, -1.34858500e+05,\n",
       "         2.23921542e+05,  3.76035445e+05,  1.58364645e+05,\n",
       "        -2.40123781e+05, -1.95820829e+05,  0.00000000e+00,\n",
       "        -5.05280301e+04, -1.16141071e+05, -5.37036142e+04,\n",
       "         4.46871109e+05, -4.82862119e+04,  3.36877522e+04,\n",
       "        -1.99888538e+05, -1.70532343e+04,  4.73315703e+05,\n",
       "        -1.83289119e+04, -2.24779564e+04,  4.43119931e+05,\n",
       "        -1.77720238e+05,  3.85578387e+05,  4.21475697e+05,\n",
       "        -6.67319404e+04,  4.55619299e+05, -1.47103579e+05,\n",
       "         1.71331553e+05,  0.00000000e+00,  2.24664396e+05,\n",
       "         1.48263920e+05, -1.18299690e+05,  0.00000000e+00,\n",
       "         6.15301961e+04, -2.34817644e+05, -1.81696020e+05,\n",
       "        -5.56432408e+05,  7.23555880e+04, -3.67593370e+05,\n",
       "        -3.91538250e+05, -4.12576156e+05,  3.23891662e+04,\n",
       "         3.17830981e+05,  4.83972190e+04, -1.55856847e+05,\n",
       "        -7.58081505e+04,  5.31085523e+04, -1.54897879e+05,\n",
       "        -7.78996558e+04,  4.56084806e+04, -3.28718668e+04,\n",
       "         3.23891662e+04, -9.90200248e+04, -6.05230949e+03,\n",
       "        -7.22040919e+04, -1.13971285e+05,  4.18502669e+05,\n",
       "        -1.45593168e+03, -1.57597008e+05,  3.16901809e+05,\n",
       "        -2.10988568e+04,  8.81770917e+04, -4.63488474e+04,\n",
       "        -1.28441159e+05, -5.50267138e+04,  4.21391455e+04,\n",
       "         2.69879926e+05,  1.34841220e+05,  1.34246726e+05,\n",
       "         2.18768074e+05, -1.09620548e+05, -1.72580625e+05,\n",
       "         2.25514338e+05, -6.75431565e+04, -2.17387254e+05,\n",
       "        -1.04656419e+05, -3.46051091e+04, -5.81974342e+04,\n",
       "         3.76050044e+05, -1.61215720e+05,  1.22470030e+04,\n",
       "         0.00000000e+00,  1.92138481e+05,  1.94817033e+05,\n",
       "         8.22585183e+04,  1.44400146e+05,  2.41948584e+05,\n",
       "        -5.40312688e+04,  2.85001928e+05, -4.27678881e+03,\n",
       "        -2.55225230e+04, -2.74769606e+05,  2.23889262e+05,\n",
       "        -2.47046279e+05,  3.39511861e+04,  3.00389021e+04,\n",
       "        -3.89963063e+05, -9.36109375e+04,  7.52733453e+04,\n",
       "         9.15379553e+04,  2.93732925e+05,  3.67775091e+05,\n",
       "         5.05332668e+04,  1.96859233e+05, -2.69870456e+05,\n",
       "        -3.16753652e+05,  2.44356817e+05,  8.60739956e+05,\n",
       "        -2.92349897e+05, -4.03739245e+04,  6.33178033e+04,\n",
       "        -4.98274220e+03,  3.76646830e+05,  6.55465951e+04,\n",
       "        -6.56726632e+04, -4.70967440e+05,  4.93057929e+05,\n",
       "         0.00000000e+00,  1.63693902e+04, -2.95888134e+05,\n",
       "         2.01050181e+05,  7.65090411e+04, -4.62185458e+04,\n",
       "        -9.19873118e+04,  5.77846206e+04, -1.90768423e+05,\n",
       "        -2.12928713e+05,  3.61192633e+05,  1.09172062e+05,\n",
       "         1.41014123e+05, -3.92524125e+05,  3.40000410e+05,\n",
       "        -5.76996145e+05,  1.87568090e+05,  1.74712350e+05,\n",
       "         2.48262008e+04,  9.45287867e+02,  0.00000000e+00,\n",
       "        -6.07184425e+05,  7.52744490e+05,  0.00000000e+00,\n",
       "         0.00000000e+00, -1.46951354e+05, -1.16141071e+05,\n",
       "         4.83972190e+04, -3.37644879e+04, -4.99793738e+05,\n",
       "        -7.58081505e+04, -1.63722340e+05, -1.99888538e+05,\n",
       "        -2.34817644e+05, -1.87531336e+04, -1.27868271e+05,\n",
       "         7.23555880e+04, -1.69822651e+04, -5.05280301e+04,\n",
       "        -3.75091140e+05, -3.91538250e+05, -4.12576156e+05,\n",
       "        -3.38420824e+04, -3.73843562e+04,  6.31389472e+02,\n",
       "        -8.75965230e+04, -8.69767905e+04,  3.47934186e+04,\n",
       "         7.88156663e+04, -1.18299690e+05,  1.30030021e+05,\n",
       "         9.60500930e+04, -7.33050116e+04, -2.12581856e+05,\n",
       "        -8.96386059e+04, -2.81492383e+05,  8.48490838e+04,\n",
       "         1.00670011e+05,  0.00000000e+00, -2.19609683e+04,\n",
       "        -2.91693224e+04,  0.00000000e+00,  4.98691148e+05,\n",
       "         6.15301961e+04, -1.55421290e+04, -4.92950691e+04,\n",
       "        -4.67022075e+04,  5.38071214e+05, -3.74283277e+05,\n",
       "        -1.43870558e+05, -1.57597008e+05,  3.16901809e+05,\n",
       "        -1.57561752e+05, -1.43870727e+05, -7.95125260e+03,\n",
       "         5.56147381e+04, -3.99815005e+04, -5.58457033e+04,\n",
       "         2.69879926e+05,  1.34841220e+05, -4.13038922e+04,\n",
       "         2.18768074e+05, -1.09620548e+05, -1.72580625e+05,\n",
       "         2.25514338e+05, -6.75431565e+04, -2.17387254e+05,\n",
       "        -1.04656419e+05, -3.46051091e+04, -5.81974342e+04,\n",
       "        -1.61215720e+05,  2.44235977e+04,  0.00000000e+00,\n",
       "         1.92138481e+05,  1.94817033e+05,  8.22585183e+04,\n",
       "         1.44400146e+05,  2.41948584e+05, -5.40312688e+04,\n",
       "         2.85001928e+05, -4.27678881e+03, -2.55225230e+04,\n",
       "        -2.74769606e+05,  2.71584946e+04,  4.72156894e+05,\n",
       "         3.39511861e+04,  3.00389021e+04, -3.89963063e+05,\n",
       "        -9.36109375e+04,  7.52733453e+04,  9.15379553e+04,\n",
       "         2.93732925e+05, -1.54697314e+05,  5.05332668e+04,\n",
       "         0.00000000e+00,  1.96859233e+05, -2.69870456e+05,\n",
       "        -3.16753652e+05,  2.44356817e+05,  8.60739956e+05,\n",
       "        -2.92349897e+05, -4.03739245e+04,  6.33178033e+04,\n",
       "        -4.98274220e+03,  3.76646830e+05,  6.55465951e+04,\n",
       "        -6.56726632e+04, -4.70967440e+05,  4.93057929e+05,\n",
       "         0.00000000e+00,  1.63693902e+04, -2.95888134e+05,\n",
       "         2.01050181e+05,  7.65090411e+04,  4.49635511e+05,\n",
       "        -9.19873118e+04,  5.77846206e+04, -1.90768423e+05,\n",
       "        -2.12928713e+05,  3.61192633e+05,  1.09172062e+05,\n",
       "         1.41014123e+05, -3.92524125e+05,  3.40000410e+05,\n",
       "        -5.76996145e+05,  1.87568090e+05,  1.74712350e+05,\n",
       "         2.48262008e+04,  9.45287867e+02,  0.00000000e+00,\n",
       "        -6.07184425e+05,  7.52744490e+05,  0.00000000e+00,\n",
       "         0.00000000e+00, -4.82862119e+04, -1.16141071e+05,\n",
       "        -2.79629619e+05, -5.37036142e+04, -1.77720238e+05,\n",
       "         2.53425234e+05,  3.36877522e+04, -1.99888538e+05,\n",
       "        -2.34817644e+05, -1.81696020e+05, -2.87727021e+05,\n",
       "         7.23555880e+04, -2.68705386e+05, -5.05280301e+04,\n",
       "        -3.67593370e+05, -3.91538250e+05, -4.12576156e+05,\n",
       "        -3.38420824e+04, -3.73843562e+04,  3.49290547e+04,\n",
       "        -8.75965230e+04,  4.20858548e+05,  3.47934186e+04,\n",
       "         7.88156663e+04, -1.18299690e+05,  1.51028368e+05,\n",
       "         2.29066655e+04, -7.33050116e+04, -2.12581856e+05,\n",
       "        -8.96386059e+04, -2.81492383e+05,  8.48490838e+04,\n",
       "         1.00670011e+05,  0.00000000e+00, -2.19609683e+04,\n",
       "        -2.91693224e+04,  0.00000000e+00,  4.98691148e+05,\n",
       "         6.15301961e+04, -2.21359188e+03,  5.56011958e+04,\n",
       "        -1.85493113e-01,  1.11683759e+00]])"
      ]
     },
     "execution_count": 365,
     "metadata": {},
     "output_type": "execute_result"
    }
   ],
   "source": [
    "# get coefficients\n",
    "coefficient = model_ridge.coef_\n",
    "\n",
    "# get intercept\n",
    "intercept = model_ridge.intercept_\n",
    "\n",
    "coefficient"
   ]
  },
  {
   "cell_type": "code",
   "execution_count": 366,
   "metadata": {},
   "outputs": [
    {
     "data": {
      "text/plain": [
       "array([574252.393962])"
      ]
     },
     "execution_count": 366,
     "metadata": {},
     "output_type": "execute_result"
    }
   ],
   "source": [
    "intercept"
   ]
  },
  {
   "cell_type": "code",
   "execution_count": 367,
   "metadata": {},
   "outputs": [
    {
     "data": {
      "text/plain": [
       "-3.8830089485428596"
      ]
     },
     "execution_count": 367,
     "metadata": {},
     "output_type": "execute_result"
    }
   ],
   "source": [
    "# calculate the R-squared\n",
    "model_ridge.score(X_test, y_test)"
   ]
  },
  {
   "cell_type": "code",
   "execution_count": 368,
   "metadata": {},
   "outputs": [],
   "source": [
    "y_predicted = model_ridge.predict(X_test)"
   ]
  },
  {
   "cell_type": "code",
   "execution_count": 369,
   "metadata": {},
   "outputs": [
    {
     "data": {
      "text/html": [
       "<div>\n",
       "<style scoped>\n",
       "    .dataframe tbody tr th:only-of-type {\n",
       "        vertical-align: middle;\n",
       "    }\n",
       "\n",
       "    .dataframe tbody tr th {\n",
       "        vertical-align: top;\n",
       "    }\n",
       "\n",
       "    .dataframe thead th {\n",
       "        text-align: right;\n",
       "    }\n",
       "</style>\n",
       "<table border=\"1\" class=\"dataframe\">\n",
       "  <thead>\n",
       "    <tr style=\"text-align: right;\">\n",
       "      <th></th>\n",
       "      <th>Features</th>\n",
       "      <th>Coefficients</th>\n",
       "    </tr>\n",
       "  </thead>\n",
       "  <tbody>\n",
       "    <tr>\n",
       "      <td>0</td>\n",
       "      <td>BOROUGH_1</td>\n",
       "      <td>[-2553031557.202231, 898765230809281.2, -77192...</td>\n",
       "    </tr>\n",
       "  </tbody>\n",
       "</table>\n",
       "</div>"
      ],
      "text/plain": [
       "    Features                                       Coefficients\n",
       "0  BOROUGH_1  [-2553031557.202231, 898765230809281.2, -77192..."
      ]
     },
     "execution_count": 369,
     "metadata": {},
     "output_type": "execute_result"
    }
   ],
   "source": [
    "# put coefficients into dataframe\n",
    "# pair the feature names with the coefficients\n",
    "coefficients_pd = pd.DataFrame((list(zip(features, model.coef_ * 1000))), columns = ['Features', 'Coefficients'])\n",
    "\n",
    "# print table of coefficients for contribution chart\n",
    "coefficients_pd"
   ]
  },
  {
   "cell_type": "code",
   "execution_count": 370,
   "metadata": {},
   "outputs": [
    {
     "data": {
      "text/plain": [
       "1111785.6008198573"
      ]
     },
     "execution_count": 370,
     "metadata": {},
     "output_type": "execute_result"
    }
   ],
   "source": [
    "ridge_rmse=np.sqrt(mse(y_predicted, y_test)) # Root mean squared error\n",
    "ridge_rmse"
   ]
  },
  {
   "cell_type": "markdown",
   "metadata": {},
   "source": [
    "**LASSO**"
   ]
  },
  {
   "cell_type": "code",
   "execution_count": 371,
   "metadata": {},
   "outputs": [
    {
     "data": {
      "text/plain": [
       "Lasso(alpha=0.1, copy_X=True, fit_intercept=True, max_iter=1000,\n",
       "      normalize=False, positive=False, precompute=False, random_state=None,\n",
       "      selection='cyclic', tol=0.0001, warm_start=False)"
      ]
     },
     "execution_count": 371,
     "metadata": {},
     "output_type": "execute_result"
    }
   ],
   "source": [
    "from sklearn import linear_model\n",
    "model_lasso = linear_model.Lasso(alpha = 0.1)\n",
    "model_lasso.fit(X_train,y_train)"
   ]
  },
  {
   "cell_type": "code",
   "execution_count": 372,
   "metadata": {},
   "outputs": [
    {
     "data": {
      "text/plain": [
       "array([-1.31965237e+04, -2.61089335e+05,  1.68878189e+05,  1.02126672e+05,\n",
       "       -2.28448347e+05, -6.16153260e+04,  8.86710980e+04, -1.12560734e+04,\n",
       "        1.22251895e+05, -5.41114684e+04, -4.93603876e+05,  1.36291482e+05,\n",
       "        6.21813714e+04,  1.01407000e+05,  9.03732562e+04, -5.99562555e+04,\n",
       "        8.40684463e+04,  1.27620433e+05,  1.77730329e+05,  1.45665233e+05,\n",
       "        2.88551628e+04, -2.60002587e+05, -3.81251052e+03,  1.32154975e+05,\n",
       "       -2.20381112e+05,  6.09810387e+05,  1.61657108e+05, -1.10134719e+05,\n",
       "        5.20661876e+04, -5.11486139e+05,  3.95339392e+04,  1.51883261e+04,\n",
       "        8.28099068e+05, -4.41072813e+05,  2.36934234e+04, -1.43910791e+05,\n",
       "       -4.70301174e+04, -3.97705416e+05, -3.90458665e+05,  8.82058610e+05,\n",
       "       -1.02433977e+04,  6.88626112e+04, -8.06005994e+05,  6.53186153e+05,\n",
       "        1.72178753e+05,  3.41845848e+05, -1.50543709e+06,  4.28200272e+05,\n",
       "        6.12738290e+04, -1.10801906e+06,  5.29863840e+05,  4.46389153e+05,\n",
       "       -5.93904829e+04, -1.21907404e+05, -5.55425128e+04, -1.02342183e+05,\n",
       "       -3.81947878e+04,  1.16967024e+05, -1.38245080e+05,  6.08190394e+04,\n",
       "       -4.26256259e+05,  1.14233720e+05,  3.20178861e+05, -1.79863080e+04,\n",
       "        1.36384585e+05,  9.16524883e+05,  7.48116480e+05,  2.90742537e+05,\n",
       "        1.52936623e+05, -1.76822732e+05, -4.78333533e+05,  5.00671132e+04,\n",
       "        2.64329350e+05,  2.40075126e+04,  6.34251596e+04,  2.96302402e+05,\n",
       "       -3.93056077e+05, -1.57050099e+06,  4.26510016e+05,  7.20828685e+04,\n",
       "       -3.45578929e+05,  2.99084579e+05, -2.96905286e+05, -2.91187568e+05,\n",
       "       -3.61306989e+05, -1.57445624e+05,  1.18210386e+05, -2.28217460e+04,\n",
       "        1.56552308e+05,  2.57927136e+05,  3.76177894e+05, -6.72788592e+05,\n",
       "        4.82766467e+04, -4.65079020e+05, -1.94372966e+05, -1.32003068e+05,\n",
       "        5.63143633e+05, -1.59149034e+06,  4.55958617e+04,  1.03863736e+05,\n",
       "       -2.84260530e+04,  4.97673992e+04,  7.63606438e+04,  4.63151601e+05,\n",
       "       -1.57219340e+06, -1.66353951e+05, -6.07788284e+04, -3.19783980e+05,\n",
       "        8.46677571e+05,  5.10710855e+05,  6.63059388e+05,  1.14277798e+06,\n",
       "        5.33255387e+04, -1.66127344e+05, -3.72239382e+05,  7.98112034e+04,\n",
       "        7.38692961e+04, -2.50039212e+05,  1.19933960e+05,  3.77884128e+04,\n",
       "       -4.20458842e+04, -1.54099992e+05, -2.28093955e+05, -6.21546112e+05,\n",
       "        1.21352992e+05, -1.93370822e+05,  1.89156523e+05, -5.61024080e+04,\n",
       "        9.82624252e+04,  2.24073959e+05, -3.80238335e+05,  5.57068552e+04,\n",
       "        5.31046434e+04,  1.29729929e+05,  1.18206448e+04,  3.60484474e+05,\n",
       "       -6.20108794e+05,  6.82794785e+04, -2.27146429e+05, -1.41056566e+05,\n",
       "       -1.28869063e+05,  1.23926026e+05, -7.99270251e+04,  3.88641240e+03,\n",
       "       -1.70580532e+05, -1.35530083e+06,  1.31497312e+05, -6.21320976e+04,\n",
       "        4.41439348e+03,  1.79907282e+04,  1.07867749e+05,  6.18620122e+04,\n",
       "        0.00000000e+00,  4.09383329e+05,  1.20355106e+05, -1.46509468e+05,\n",
       "        0.00000000e+00,  3.85650121e+04, -4.34015151e+04,  1.22279365e+05,\n",
       "        1.21712303e+05,  4.69617831e+04,  8.78782329e+04,  4.36907390e+04,\n",
       "       -2.18417049e+05,  1.44862092e+05,  7.88132942e+04, -3.38421803e+05,\n",
       "       -3.43041316e+05,  7.10721966e+05,  6.21101118e+05, -9.37246704e+04,\n",
       "       -5.20354544e+05,  4.52072243e+04,  2.98227735e+04,  1.58062454e+05,\n",
       "        2.06375672e+05, -1.95933558e+05, -1.73467738e+05,  1.39755971e+05,\n",
       "        5.09873808e+05, -3.72533448e+05,  3.98267585e+05,  1.18888142e+05,\n",
       "       -3.17412354e+05,  1.94594702e+05,  2.65856626e+05,  2.68930199e+04,\n",
       "        4.03469722e+05, -3.89476334e+05,  5.42945091e+03, -3.62611422e+05,\n",
       "        1.36695527e+05,  4.52113617e+04,  9.34568376e+04, -1.16418795e+05,\n",
       "        1.31262263e+04, -2.26020906e+05, -1.04043654e+05,  1.00126387e+05,\n",
       "       -4.35845657e+05,  0.00000000e+00, -3.87358361e+04,  1.86850277e+04,\n",
       "       -4.54776093e+05, -3.69618276e+05, -3.73394169e+05, -3.91364772e+05,\n",
       "       -4.20685338e+05, -1.89603964e+05, -2.92496467e+04,  7.19840499e+04,\n",
       "        1.61966756e+05,  1.51366351e+04,  6.25860767e+05, -2.03754719e+04,\n",
       "        7.70312263e+04,  1.78480663e+04, -8.22951009e+05, -6.01747805e+04,\n",
       "        1.79514647e+05,  1.26325254e+05, -4.91857454e+04,  0.00000000e+00,\n",
       "        2.75621066e+05, -8.70872109e+04,  7.43175984e+05,  2.79620493e+05,\n",
       "       -6.35068608e+04, -2.82964487e+04,  6.10026904e+04,  1.06161242e+05,\n",
       "       -8.66576495e+04, -1.84395995e+04,  3.30509803e+05,  5.76441677e+05,\n",
       "        5.56686900e+05,  1.28563033e+05,  4.20590538e+05, -2.70658071e+05,\n",
       "        1.02139945e+05,  8.83226179e+04,  1.31811324e+03,  8.50240845e+04,\n",
       "        1.54618477e+04,  1.63415743e+05,  2.76657977e+05, -1.02056056e+05,\n",
       "       -9.65305438e+02,  6.77800174e+04,  5.18426241e+05,  2.29665360e+05,\n",
       "       -4.97414235e+05, -4.64994242e+05,  0.00000000e+00, -9.81314717e+04,\n",
       "       -3.04136755e+05, -9.82448592e+04,  3.83566707e+05, -1.97797083e+05,\n",
       "        0.00000000e+00, -5.77320602e+05,  2.34788377e+05,  4.88574166e+05,\n",
       "        2.00311676e+05,  4.31769496e+05,  4.68692029e+05,  0.00000000e+00,\n",
       "        4.38841394e+05,  7.04338263e+05, -0.00000000e+00,  3.41712549e+05,\n",
       "       -1.94394942e+05,  1.89892641e+05,  0.00000000e+00,  2.40087166e+05,\n",
       "       -0.00000000e+00, -4.40358708e+05,  0.00000000e+00,  1.56620305e+05,\n",
       "       -8.02236142e+05, -3.20103987e+05, -9.28948465e+05,  1.68002410e+05,\n",
       "       -8.94424421e+05, -1.22618779e+06, -1.28418400e+06,  7.71761217e+04,\n",
       "        6.48385225e+04,  2.12226012e+05, -3.52316934e+05, -1.31472559e+05,\n",
       "        5.31443093e+04, -2.19735178e+05, -1.30481785e+05,  4.50990569e+04,\n",
       "       -1.88601347e+04,  4.68576539e+04, -5.99180117e+04,  2.48628003e+04,\n",
       "       -3.52337297e+04, -3.30654009e+05,  9.77434071e+05,  1.95221669e+05,\n",
       "       -1.74455221e+05,  9.10163774e+05,  1.64547068e+05, -1.87676523e+05,\n",
       "       -5.49822620e+04, -4.25328329e+03, -6.87514393e+04,  4.22878967e+04,\n",
       "        4.80440026e+05,  2.32275769e+05, -8.88532971e+04,  4.87155994e+05,\n",
       "       -2.83668505e+05, -4.11106523e+04,  4.07991049e+05,  1.27411666e+05,\n",
       "       -5.32066520e+05, -3.35526258e+05,  2.20839576e+05, -1.89329432e+05,\n",
       "        5.33708155e+05, -2.50639624e+03, -2.63935568e+05,  0.00000000e+00,\n",
       "        4.54722138e+05,  1.35159275e+05, -9.47221752e+04,  1.66390353e+04,\n",
       "        4.96729724e+05, -1.55027486e+05,  5.81448658e+05, -1.83428755e+04,\n",
       "       -5.35533070e+04, -1.00754185e+05,  4.38974288e+05, -2.39792953e+05,\n",
       "        3.73212714e+04,  5.66895601e+04, -9.25454698e+05, -2.02781016e+05,\n",
       "        2.17816182e+05,  1.46223698e+05,  8.36802228e+05,  8.97606891e+05,\n",
       "        1.21931372e+05,  8.81787002e+04, -1.42034705e+06, -8.22687134e+05,\n",
       "        7.31608382e+05,  2.27066453e+06, -5.98337978e+05,  3.67486966e+02,\n",
       "        1.11113578e+05, -2.54849038e+04,  1.05494717e+06,  1.13999840e+05,\n",
       "       -1.38858295e+05, -1.16476310e+06,  1.48529310e+06,  0.00000000e+00,\n",
       "        1.85642848e+05, -9.46671313e+04,  3.10637635e+05,  1.64899214e+04,\n",
       "       -1.07276401e+06, -2.61532394e+05,  1.48411651e+05, -3.91157864e+05,\n",
       "       -3.06122035e+05,  1.00432865e+06, -1.70185305e+03,  6.06726941e+04,\n",
       "       -2.06584930e+06,  4.45392060e+05, -2.16276323e+06,  1.28160261e+05,\n",
       "        1.06178599e+05,  3.88678673e+04,  0.00000000e+00,  0.00000000e+00,\n",
       "       -1.83428974e+06,  2.26531265e+06,  0.00000000e+00,  0.00000000e+00,\n",
       "       -9.10645873e+04,  0.00000000e+00,  9.81817457e+03,  2.48333218e+04,\n",
       "       -1.59037830e+06, -5.38754217e+02, -4.09892525e+05, -0.00000000e+00,\n",
       "       -0.00000000e+00, -4.20643820e+04, -3.28244252e+04,  7.69937495e+04,\n",
       "        1.77979196e+04, -3.93849497e+02, -3.68406130e+05, -0.00000000e+00,\n",
       "       -0.00000000e+00,  1.19628966e+04,  2.56223723e+04, -3.42886961e+04,\n",
       "       -1.01521553e+04, -1.06478796e+06,  2.09260818e+05,  2.88899538e+05,\n",
       "       -0.00000000e+00,  1.70972622e+04, -1.45627259e+05, -1.08450080e+05,\n",
       "       -5.25147506e+05, -2.98200384e+05, -6.61710722e+05,  2.74900973e+05,\n",
       "        3.09897944e+05,  0.00000000e+00, -0.00000000e+00, -8.83573984e+03,\n",
       "        0.00000000e+00,  1.69674343e+06,  7.03423417e+04,  6.07073596e+04,\n",
       "        3.61038732e+04,  3.29483134e+04,  8.66129800e+05, -8.11436038e+05,\n",
       "       -2.24243955e+05, -2.63165819e+04,  0.00000000e+00, -2.27387440e+05,\n",
       "        1.60025082e+05,  2.97070521e+04, -4.03113088e+04,  9.36348543e+02,\n",
       "       -9.57431157e+04,  0.00000000e+00,  0.00000000e+00,  1.43514635e+05,\n",
       "        0.00000000e+00, -1.44926716e+04, -1.38364581e+04,  0.00000000e+00,\n",
       "        0.00000000e+00, -1.50583812e+04, -1.50684963e+04,  0.00000000e+00,\n",
       "       -1.50699078e+04, -1.53573043e+04,  1.72033336e+05,  0.00000000e+00,\n",
       "        0.00000000e+00,  0.00000000e+00, -1.62872215e+04,  0.00000000e+00,\n",
       "        0.00000000e+00, -1.64172153e+04,  0.00000000e+00, -1.64405068e+04,\n",
       "       -1.67029446e+04, -1.64560908e+04, -2.10982973e+05,  4.17706794e+05,\n",
       "        0.00000000e+00,  0.00000000e+00, -1.65952921e+04, -1.60350327e+04,\n",
       "        0.00000000e+00,  0.00000000e+00,  0.00000000e+00, -9.08013135e+05,\n",
       "        0.00000000e+00,  0.00000000e+00,  0.00000000e+00, -1.68555164e+04,\n",
       "       -1.68824606e+04,  0.00000000e+00,  0.00000000e+00, -1.70206420e+04,\n",
       "        0.00000000e+00,  0.00000000e+00, -1.68554347e+04,  0.00000000e+00,\n",
       "        0.00000000e+00, -1.76857939e+04, -1.76034869e+04,  0.00000000e+00,\n",
       "        0.00000000e+00,  0.00000000e+00, -1.76845567e+04,  0.00000000e+00,\n",
       "        0.00000000e+00,  1.46896121e+06, -1.55165845e+04,  0.00000000e+00,\n",
       "       -1.54490517e+04, -1.56561868e+04,  0.00000000e+00, -1.55867891e+04,\n",
       "        0.00000000e+00, -1.57769663e+04,  0.00000000e+00, -1.57905010e+04,\n",
       "        0.00000000e+00,  0.00000000e+00,  0.00000000e+00,  0.00000000e+00,\n",
       "        0.00000000e+00, -1.59776063e+04,  0.00000000e+00,  0.00000000e+00,\n",
       "        0.00000000e+00,  8.04838517e+04, -1.02174019e+04, -2.90840173e+05,\n",
       "       -3.67024323e+04,  2.31355450e+05,  3.42651706e+05,  3.38744312e+05,\n",
       "       -4.74851041e+03, -3.95344464e+02, -2.15045575e+03,  4.61088332e+03,\n",
       "        0.00000000e+00,  8.92614124e+04, -1.83108211e+04,  1.43793887e+05,\n",
       "       -1.07866871e+03, -1.07867326e+03,  0.00000000e+00,  0.00000000e+00,\n",
       "        8.26221108e+04, -1.56604337e+04,  1.56356431e+06,  0.00000000e+00,\n",
       "        0.00000000e+00, -5.72661348e+02,  3.65112084e+05,  2.23469899e+05,\n",
       "       -9.10133893e+03, -9.07753057e+03, -9.06419157e+03, -9.00396766e+03,\n",
       "        0.00000000e+00,  0.00000000e+00,  0.00000000e+00, -0.00000000e+00,\n",
       "       -2.78326480e+03,  0.00000000e+00,  0.00000000e+00,  0.00000000e+00,\n",
       "       -2.86650318e+03,  6.98129208e+04, -2.26572016e-01,  1.44224955e+00])"
      ]
     },
     "execution_count": 372,
     "metadata": {},
     "output_type": "execute_result"
    }
   ],
   "source": [
    "# get coefficients\n",
    "coefficient = model_lasso.coef_\n",
    "\n",
    "# get intercept\n",
    "intercept = model_lasso.intercept_\n",
    "\n",
    "coefficient"
   ]
  },
  {
   "cell_type": "code",
   "execution_count": 373,
   "metadata": {},
   "outputs": [
    {
     "data": {
      "text/plain": [
       "array([576547.87969717])"
      ]
     },
     "execution_count": 373,
     "metadata": {},
     "output_type": "execute_result"
    }
   ],
   "source": [
    "intercept"
   ]
  },
  {
   "cell_type": "code",
   "execution_count": 374,
   "metadata": {},
   "outputs": [
    {
     "data": {
      "text/plain": [
       "-6.382360102373092"
      ]
     },
     "execution_count": 374,
     "metadata": {},
     "output_type": "execute_result"
    }
   ],
   "source": [
    "# calculate the R-squared\n",
    "model_lasso.score(X_test, y_test)"
   ]
  },
  {
   "cell_type": "code",
   "execution_count": 375,
   "metadata": {},
   "outputs": [],
   "source": [
    "y_predicted = model_lasso.predict(X_test)"
   ]
  },
  {
   "cell_type": "code",
   "execution_count": 376,
   "metadata": {},
   "outputs": [
    {
     "data": {
      "text/html": [
       "<div>\n",
       "<style scoped>\n",
       "    .dataframe tbody tr th:only-of-type {\n",
       "        vertical-align: middle;\n",
       "    }\n",
       "\n",
       "    .dataframe tbody tr th {\n",
       "        vertical-align: top;\n",
       "    }\n",
       "\n",
       "    .dataframe thead th {\n",
       "        text-align: right;\n",
       "    }\n",
       "</style>\n",
       "<table border=\"1\" class=\"dataframe\">\n",
       "  <thead>\n",
       "    <tr style=\"text-align: right;\">\n",
       "      <th></th>\n",
       "      <th>Features</th>\n",
       "      <th>Coefficients</th>\n",
       "    </tr>\n",
       "  </thead>\n",
       "  <tbody>\n",
       "    <tr>\n",
       "      <td>0</td>\n",
       "      <td>BOROUGH_1</td>\n",
       "      <td>[-2553031557.202231, 898765230809281.2, -77192...</td>\n",
       "    </tr>\n",
       "  </tbody>\n",
       "</table>\n",
       "</div>"
      ],
      "text/plain": [
       "    Features                                       Coefficients\n",
       "0  BOROUGH_1  [-2553031557.202231, 898765230809281.2, -77192..."
      ]
     },
     "execution_count": 376,
     "metadata": {},
     "output_type": "execute_result"
    }
   ],
   "source": [
    "# put coefficients into dataframe\n",
    "# pair the feature names with the coefficients\n",
    "coefficients_pd = pd.DataFrame((list(zip(features, model.coef_ * 1000))), columns = ['Features', 'Coefficients'])\n",
    "\n",
    "# print table of coefficients for contribution chart\n",
    "coefficients_pd"
   ]
  },
  {
   "cell_type": "code",
   "execution_count": 377,
   "metadata": {},
   "outputs": [
    {
     "data": {
      "text/plain": [
       "1367020.0922091128"
      ]
     },
     "execution_count": 377,
     "metadata": {},
     "output_type": "execute_result"
    }
   ],
   "source": [
    "lasso_rmse=np.sqrt(mse(y_predicted, y_test)) # Root mean squared error\n",
    "lasso_rmse"
   ]
  },
  {
   "cell_type": "markdown",
   "metadata": {},
   "source": [
    "**ELASTIC NET**"
   ]
  },
  {
   "cell_type": "code",
   "execution_count": 378,
   "metadata": {},
   "outputs": [
    {
     "data": {
      "text/plain": [
       "ElasticNet(alpha=1.0, copy_X=True, fit_intercept=True, l1_ratio=0.5,\n",
       "           max_iter=1000, normalize=False, positive=False, precompute=False,\n",
       "           random_state=0, selection='cyclic', tol=0.0001, warm_start=False)"
      ]
     },
     "execution_count": 378,
     "metadata": {},
     "output_type": "execute_result"
    }
   ],
   "source": [
    "from sklearn.linear_model import ElasticNet\n",
    "model_elasticnet = ElasticNet(random_state = 0) \n",
    "model_elasticnet.fit(X_train,y_train)"
   ]
  },
  {
   "cell_type": "code",
   "execution_count": 379,
   "metadata": {},
   "outputs": [
    {
     "data": {
      "text/plain": [
       "array([ 7.40873781e+03, -5.22050128e+04,  7.22797204e+04,  3.31682565e+03,\n",
       "       -3.08012711e+04,  3.92110726e+01, -1.44467778e+02, -2.32802904e+03,\n",
       "       -1.74799385e+01, -9.68694763e+01, -2.35094867e+03,  6.40091792e+03,\n",
       "        5.49541056e+02,  2.50744616e+02,  5.20120793e+02, -3.48405025e+03,\n",
       "        5.60021843e+03, -1.32160359e+03,  1.16764073e+04,  5.86372301e+02,\n",
       "        7.64436434e+02, -7.65165290e+02, -1.58633040e+02,  4.49457725e+03,\n",
       "       -1.05216532e+03,  3.85973137e+03,  6.52004079e+03,  1.35732503e+02,\n",
       "       -1.85220229e+03, -7.58372464e+02, -5.48166657e+00, -3.33373539e+03,\n",
       "        6.79312620e+03, -1.95763758e+03, -1.62256107e+03, -3.99747921e+01,\n",
       "        2.06671914e+03, -1.87250729e+03, -8.07977213e+03,  4.57778609e+03,\n",
       "       -1.06238948e+03, -4.07523157e+02, -1.33877587e+02,  2.97686870e+02,\n",
       "       -3.92648768e+02,  1.28993959e+01, -1.43172361e+02,  4.32901759e+03,\n",
       "       -2.10042612e+02, -5.38789166e+01,  3.57385283e+02,  8.02906496e+02,\n",
       "        1.64883795e+03, -1.20670104e+03, -2.18338958e+02, -2.60144753e+03,\n",
       "        3.02875057e+03, -5.12385099e+02, -2.63892743e+02,  2.63283235e+03,\n",
       "       -3.16628328e+03, -4.40319892e+01,  5.70376180e+02, -8.61931935e+01,\n",
       "        1.42077480e+03,  6.01958135e+03,  6.07533009e+03,  2.15464116e+02,\n",
       "        2.70678117e+03,  2.18328885e+01, -1.11694999e+04, -1.12680061e+03,\n",
       "        1.32757525e+02,  3.19349781e+03, -1.51599457e+03,  8.28100518e+01,\n",
       "       -2.22318560e+03, -8.96289792e+01,  3.20037065e+01,  1.75322868e+03,\n",
       "       -6.98421132e+03,  2.46782568e+03, -2.87968504e+03, -9.15510817e+01,\n",
       "       -2.27243231e+03, -3.43620419e+02,  1.21184377e+04,  1.91428888e+03,\n",
       "        4.51894406e+01,  4.50958537e+03,  1.75556745e+03, -6.19807407e+01,\n",
       "        9.61062066e+02, -1.25291945e+03, -9.35395305e+01,  8.14853755e+02,\n",
       "        3.31425314e+03, -7.17244104e+01, -4.17061689e+02, -1.46322653e+02,\n",
       "       -7.47495630e+02, -2.83102855e+03, -1.08160142e+02,  5.76916235e+03,\n",
       "       -7.04847274e+01,  2.18295331e+01, -4.87899461e+02, -3.31543569e+02,\n",
       "        4.72923124e+03,  1.88935777e+03,  2.03039833e+03,  2.83822688e+02,\n",
       "       -6.72318134e+02, -4.03435110e+01, -2.88928728e+03,  3.49602515e+02,\n",
       "        4.86958841e+02, -1.17704146e+03, -3.04869453e+01,  4.61952823e+01,\n",
       "        2.18413177e+02,  1.48735020e+02, -2.86541757e+00, -3.47433006e+02,\n",
       "        1.38215760e+03, -5.74695407e+01,  2.34991615e+02,  5.85656864e+02,\n",
       "       -1.32112067e+03, -1.80793605e+03, -2.67666316e+03,  1.58025131e+03,\n",
       "       -2.00758739e+02,  1.49360801e+03,  4.73746016e+02,  1.32938384e+03,\n",
       "       -1.17272351e+01, -4.62041390e+02, -2.90652557e+03, -2.26533136e+03,\n",
       "        5.73688128e+02, -1.78910255e+03,  1.07202736e+03, -2.05362128e+03,\n",
       "        3.12914450e+01, -1.83275969e+03,  1.89411448e+03,  5.56319894e+02,\n",
       "       -1.57685310e+03, -2.03080645e+03,  6.98723223e+02, -1.21745372e+02,\n",
       "        0.00000000e+00,  9.72698607e+02,  3.43033734e+02, -2.02021126e+03,\n",
       "        0.00000000e+00, -7.75586194e+02, -1.07151303e+03, -1.28957026e+02,\n",
       "       -1.23477577e+02,  8.34374872e+02, -7.09541249e+01, -3.17137854e+02,\n",
       "       -1.05200020e+03,  1.57873209e+03,  7.74778197e+02, -3.38178058e+03,\n",
       "       -2.77384027e+03,  1.13924565e+04,  4.32773416e+03, -8.87672903e+03,\n",
       "       -6.79059991e+01, -2.99350746e+02, -7.10200171e+02, -1.08763679e+03,\n",
       "        2.24593973e+02, -8.18597696e+02, -2.75273050e+03,  3.64483295e+02,\n",
       "        5.50317391e+03, -4.27167903e+03,  1.40834092e+03,  1.58686008e+03,\n",
       "       -3.40511359e+03,  3.00112431e+02,  8.93980313e+01,  3.01958488e+03,\n",
       "       -5.25870548e+03, -3.59212506e+02, -7.83884271e+02, -3.45529700e+03,\n",
       "       -3.91836880e+01, -1.95363210e+02,  7.15076907e+01, -4.31737498e+01,\n",
       "       -1.48151646e+03, -5.62857238e+01, -6.51369248e+03, -3.76838109e+00,\n",
       "       -7.21195000e+03,  0.00000000e+00, -4.66049110e+03, -1.21309165e+03,\n",
       "       -5.62214592e+03, -3.94511307e+03, -8.34386481e+02, -4.55367386e+03,\n",
       "       -5.98216900e+03, -1.15862300e+03, -5.69337451e+02,  9.63791089e+02,\n",
       "        3.33444206e+03, -2.25011074e+03,  1.01740349e+03, -1.99765700e+02,\n",
       "       -2.77707237e+02, -4.23585005e+02, -3.89540510e+02,  1.44663940e+01,\n",
       "        8.68775094e+01,  3.24950171e+01,  2.22287213e+01,  0.00000000e+00,\n",
       "       -6.58700018e+01, -2.02840187e+03,  3.84103619e+02,  6.32445448e+01,\n",
       "       -1.97875670e+03, -4.67278951e+02, -8.16897738e+02,  3.22114680e+03,\n",
       "       -4.13476970e+03, -8.88781950e+02,  4.64466504e+03,  5.25577941e+03,\n",
       "        6.10298097e+03, -1.56567600e+02,  2.02342112e+03, -1.38458697e+03,\n",
       "       -8.41419496e+02, -3.56945174e+02,  1.10248599e+03,  9.63360133e+02,\n",
       "       -3.66833765e+04,  3.13914229e+03,  1.46943285e+04, -2.79576455e+03,\n",
       "       -1.71410041e+03,  2.12159523e+02,  2.65673654e+04,  1.51315178e+02,\n",
       "       -5.45606667e+03, -3.79399092e+04,  0.00000000e+00,  1.64056886e+02,\n",
       "       -9.92127103e+02,  2.34712893e+04,  5.46114723e+03,  3.34033247e+03,\n",
       "        1.22180526e+02, -1.89937449e+02,  1.49994863e+03,  7.42594317e+03,\n",
       "        0.00000000e+00, -1.70235479e+03,  2.21272647e+03, -9.43475666e+01,\n",
       "        3.04508097e+03,  4.14345662e+03, -5.44106364e+02,  6.16978125e+02,\n",
       "       -3.28789880e+02,  1.70130431e+02,  0.00000000e+00,  1.04047586e+03,\n",
       "        1.90953237e+02, -5.18998978e+01,  0.00000000e+00, -1.09507518e+02,\n",
       "       -1.03186418e+02, -2.35592099e+02, -6.99953180e+03,  3.76355709e+02,\n",
       "       -1.21663385e+03, -3.88151167e+02, -5.01779346e+02,  1.79963587e+03,\n",
       "       -1.82229402e+04, -5.64173701e+03, -1.84372752e+03,  2.57746197e+03,\n",
       "       -2.00063049e+04,  1.96940309e+04,  8.67082761e+03,  4.17490415e+03,\n",
       "        8.79584910e+03,  1.79963587e+03,  2.81191184e+02, -1.02604113e+04,\n",
       "       -9.59733685e+03,  8.16416225e+03,  2.28894314e+03, -1.96850806e+04,\n",
       "       -1.81907760e+03,  1.57402700e+02, -6.32686520e+03,  3.37442926e+03,\n",
       "       -5.91991549e+03, -1.18445929e+03,  2.19089327e+03,  1.47703976e+04,\n",
       "        7.43863666e+03,  8.64196440e+03,  6.72904635e+03,  1.23350364e+03,\n",
       "        5.68448699e+02, -5.35415400e+03,  2.06929569e+03, -1.00912674e+02,\n",
       "       -8.78624189e+01, -7.44292312e+01,  6.91633237e+01,  5.01905132e+01,\n",
       "        6.10144869e+01, -3.80100726e+04, -6.68996000e+00,  0.00000000e+00,\n",
       "        1.15789186e+02,  2.32688062e+03,  2.91927657e+02,  1.52264834e+03,\n",
       "        5.23068349e+02,  2.50457073e+00,  6.85536692e+02,  9.20303087e+02,\n",
       "        7.73137731e+01, -1.35554738e+02,  1.59207163e+03,  8.60661179e+02,\n",
       "        1.35955891e+02,  1.34434850e-01, -1.36163351e+02, -1.03695763e+02,\n",
       "        9.53648647e+01,  2.64234751e+02,  9.10986183e+01,  2.40418713e+02,\n",
       "       -1.69561071e+03,  5.45993125e+01, -6.13433914e+01, -5.95593990e+01,\n",
       "        1.79388657e+02,  4.25164004e+02,  4.01112601e+01,  2.98736032e+01,\n",
       "        2.68634224e+03,  1.30510798e+03,  1.95385065e+02,  3.09957723e+03,\n",
       "        8.03142253e+00, -6.44203263e+01,  1.84404047e+02,  0.00000000e+00,\n",
       "        6.51550768e+00, -8.96289792e+01,  5.68620624e+01,  3.25629676e+01,\n",
       "        9.12151078e+02, -4.57865341e+01,  9.90793195e+01, -1.21480600e+02,\n",
       "       -8.20346001e+01,  2.73987837e+02, -6.16998967e+00,  2.36323157e+02,\n",
       "       -5.56093488e+01,  6.87745712e+02, -5.64726891e+00,  3.21715510e+02,\n",
       "        3.21590863e+02,  1.03752060e+01,  1.91514380e+01,  0.00000000e+00,\n",
       "       -7.14202838e+01,  2.11024071e+02,  0.00000000e+00,  0.00000000e+00,\n",
       "        2.91003153e+03, -9.92127103e+02, -5.64173701e+03,  2.19628321e+04,\n",
       "       -7.21426011e+01,  2.57746197e+03, -4.88686485e+01, -1.89937449e+02,\n",
       "       -1.03186418e+02, -1.77486702e+02, -5.30667451e+03,  3.76355709e+02,\n",
       "       -1.26387952e+03,  1.64056886e+02, -1.14624007e+03, -3.88151167e+02,\n",
       "       -5.01779346e+02, -5.09649628e+01,  3.89947127e+02,  4.78864507e+03,\n",
       "        5.00276438e+02,  1.94147436e+03,  6.27299625e+02,  2.30948789e+03,\n",
       "       -5.18998978e+01, -1.72029505e+03, -5.11753649e+02, -5.03913308e+01,\n",
       "       -7.10411475e+01, -6.06375286e+01, -1.38647378e+02,  2.74426657e+00,\n",
       "       -4.56597842e+01,  0.00000000e+00, -4.39307484e+01, -1.01296236e+02,\n",
       "        0.00000000e+00,  3.48714261e+02, -1.09507518e+02,  4.21277805e+02,\n",
       "       -1.03571521e+04, -9.73911170e+03,  8.25207618e+03,  2.14903672e+03,\n",
       "       -1.95640060e+04, -1.81907760e+03,  1.57402700e+02, -6.52280461e+03,\n",
       "        3.05631317e+03, -5.89114774e+03, -1.00284900e+03,  2.19596391e+03,\n",
       "        1.46943285e+04,  7.43863666e+03,  8.64196440e+03,  6.77480794e+03,\n",
       "        1.23350364e+03,  5.68448699e+02, -5.35415400e+03,  2.06929569e+03,\n",
       "       -1.00912674e+02, -8.78624189e+01, -7.44292312e+01,  6.91633237e+01,\n",
       "        5.01905132e+01, -3.80100726e+04, -1.46645210e+01,  0.00000000e+00,\n",
       "        1.15789186e+02,  2.32688062e+03,  2.91927657e+02,  1.52264834e+03,\n",
       "        5.23068349e+02,  2.50457073e+00,  6.85536692e+02,  9.20303087e+02,\n",
       "        7.73137731e+01, -1.35554738e+02,  1.55153271e+03,  1.07300923e+03,\n",
       "        1.35955891e+02,  1.34434850e-01, -1.36163351e+02, -1.03695763e+02,\n",
       "        9.53648647e+01,  2.64234751e+02,  9.10986183e+01,  6.86095845e+01,\n",
       "       -1.69561071e+03,  0.00000000e+00,  5.45993125e+01, -6.13433914e+01,\n",
       "       -5.95593990e+01,  1.79388657e+02,  4.25164004e+02,  4.01112601e+01,\n",
       "        2.98736032e+01,  2.68634224e+03,  1.30510798e+03,  1.95385065e+02,\n",
       "        3.09957723e+03,  8.03142253e+00, -6.44203263e+01,  1.84404047e+02,\n",
       "        0.00000000e+00,  6.51550768e+00, -8.96289792e+01,  5.68620624e+01,\n",
       "        3.25629676e+01,  1.10966368e+03, -4.57865341e+01,  9.90793195e+01,\n",
       "       -1.21480600e+02, -8.20346001e+01,  2.73987837e+02, -6.16998967e+00,\n",
       "        2.36323157e+02, -5.56093488e+01,  6.87745712e+02, -5.64726891e+00,\n",
       "        3.21715510e+02,  3.21590863e+02,  1.03752060e+01,  1.91514380e+01,\n",
       "        0.00000000e+00, -7.14202838e+01,  2.11024071e+02,  0.00000000e+00,\n",
       "        0.00000000e+00,  3.34033247e+03, -9.92127103e+02, -5.82649860e+03,\n",
       "        2.34712893e+04, -9.43475666e+01,  3.02973405e+03,  1.22180526e+02,\n",
       "       -1.89937449e+02, -1.03186418e+02, -2.35592099e+02, -5.50302212e+03,\n",
       "        3.76355709e+02, -1.49550968e+03,  1.64056886e+02, -1.21663385e+03,\n",
       "       -3.88151167e+02, -5.01779346e+02, -5.09649628e+01,  3.89947127e+02,\n",
       "        4.78086195e+03,  5.00276438e+02,  2.02108327e+03,  6.27299625e+02,\n",
       "        2.30948789e+03, -5.18998978e+01, -1.59066793e+03, -4.82468836e+02,\n",
       "       -5.03913308e+01, -7.10411475e+01, -6.06375286e+01, -1.38647378e+02,\n",
       "        2.74426657e+00, -4.56597842e+01,  0.00000000e+00, -4.39307484e+01,\n",
       "       -1.01296236e+02,  0.00000000e+00,  3.48714261e+02, -1.09507518e+02,\n",
       "        3.11917874e+03,  4.19892656e+04,  1.35265601e-01, -1.95733515e+00])"
      ]
     },
     "execution_count": 379,
     "metadata": {},
     "output_type": "execute_result"
    }
   ],
   "source": [
    "# get coefficients\n",
    "coefficient = model_elasticnet.coef_\n",
    "\n",
    "# get intercept\n",
    "intercept = model_elasticnet.intercept_\n",
    "\n",
    "coefficient"
   ]
  },
  {
   "cell_type": "code",
   "execution_count": 380,
   "metadata": {},
   "outputs": [
    {
     "data": {
      "text/plain": [
       "array([711055.78202067])"
      ]
     },
     "execution_count": 380,
     "metadata": {},
     "output_type": "execute_result"
    }
   ],
   "source": [
    "intercept"
   ]
  },
  {
   "cell_type": "code",
   "execution_count": 381,
   "metadata": {},
   "outputs": [
    {
     "data": {
      "text/plain": [
       "-2.3709344566968285"
      ]
     },
     "execution_count": 381,
     "metadata": {},
     "output_type": "execute_result"
    }
   ],
   "source": [
    "# calculate the R-squared\n",
    "model_elasticnet.score(X_test, y_test)"
   ]
  },
  {
   "cell_type": "code",
   "execution_count": 382,
   "metadata": {},
   "outputs": [],
   "source": [
    "y_predicted = model_elasticnet.predict(X_test)"
   ]
  },
  {
   "cell_type": "code",
   "execution_count": 383,
   "metadata": {},
   "outputs": [
    {
     "data": {
      "text/html": [
       "<div>\n",
       "<style scoped>\n",
       "    .dataframe tbody tr th:only-of-type {\n",
       "        vertical-align: middle;\n",
       "    }\n",
       "\n",
       "    .dataframe tbody tr th {\n",
       "        vertical-align: top;\n",
       "    }\n",
       "\n",
       "    .dataframe thead th {\n",
       "        text-align: right;\n",
       "    }\n",
       "</style>\n",
       "<table border=\"1\" class=\"dataframe\">\n",
       "  <thead>\n",
       "    <tr style=\"text-align: right;\">\n",
       "      <th></th>\n",
       "      <th>Features</th>\n",
       "      <th>Coefficients</th>\n",
       "    </tr>\n",
       "  </thead>\n",
       "  <tbody>\n",
       "    <tr>\n",
       "      <td>0</td>\n",
       "      <td>BOROUGH_1</td>\n",
       "      <td>[-2553031557.202231, 898765230809281.2, -77192...</td>\n",
       "    </tr>\n",
       "  </tbody>\n",
       "</table>\n",
       "</div>"
      ],
      "text/plain": [
       "    Features                                       Coefficients\n",
       "0  BOROUGH_1  [-2553031557.202231, 898765230809281.2, -77192..."
      ]
     },
     "execution_count": 383,
     "metadata": {},
     "output_type": "execute_result"
    }
   ],
   "source": [
    "# put coefficients into dataframe\n",
    "# pair the feature names with the coefficients\n",
    "coefficients_pd = pd.DataFrame((list(zip(features, model.coef_ * 1000))), columns = ['Features', 'Coefficients'])\n",
    "\n",
    "# print table of coefficients for contribution chart\n",
    "coefficients_pd"
   ]
  },
  {
   "cell_type": "code",
   "execution_count": 384,
   "metadata": {},
   "outputs": [
    {
     "data": {
      "text/plain": [
       "923745.7198112588"
      ]
     },
     "execution_count": 384,
     "metadata": {},
     "output_type": "execute_result"
    }
   ],
   "source": [
    "elasticnet_rmse=np.sqrt(mse(y_predicted, y_test)) # Root mean squared error\n",
    "elasticnet_rmse"
   ]
  },
  {
   "cell_type": "markdown",
   "metadata": {},
   "source": [
    "**RMSE**"
   ]
  },
  {
   "cell_type": "code",
   "execution_count": 386,
   "metadata": {},
   "outputs": [
    {
     "data": {
      "text/html": [
       "<div>\n",
       "<style scoped>\n",
       "    .dataframe tbody tr th:only-of-type {\n",
       "        vertical-align: middle;\n",
       "    }\n",
       "\n",
       "    .dataframe tbody tr th {\n",
       "        vertical-align: top;\n",
       "    }\n",
       "\n",
       "    .dataframe thead th {\n",
       "        text-align: right;\n",
       "    }\n",
       "</style>\n",
       "<table border=\"1\" class=\"dataframe\">\n",
       "  <thead>\n",
       "    <tr style=\"text-align: right;\">\n",
       "      <th></th>\n",
       "      <th>Models</th>\n",
       "      <th>RMSE</th>\n",
       "    </tr>\n",
       "  </thead>\n",
       "  <tbody>\n",
       "    <tr>\n",
       "      <td>0</td>\n",
       "      <td>Linear</td>\n",
       "      <td>1.154804e+10</td>\n",
       "    </tr>\n",
       "    <tr>\n",
       "      <td>1</td>\n",
       "      <td>Ridge</td>\n",
       "      <td>1.111786e+06</td>\n",
       "    </tr>\n",
       "    <tr>\n",
       "      <td>2</td>\n",
       "      <td>Lasso</td>\n",
       "      <td>1.367020e+06</td>\n",
       "    </tr>\n",
       "    <tr>\n",
       "      <td>3</td>\n",
       "      <td>ElasticNet</td>\n",
       "      <td>9.237457e+05</td>\n",
       "    </tr>\n",
       "  </tbody>\n",
       "</table>\n",
       "</div>"
      ],
      "text/plain": [
       "       Models          RMSE\n",
       "0      Linear  1.154804e+10\n",
       "1       Ridge  1.111786e+06\n",
       "2       Lasso  1.367020e+06\n",
       "3  ElasticNet  9.237457e+05"
      ]
     },
     "execution_count": 386,
     "metadata": {},
     "output_type": "execute_result"
    }
   ],
   "source": [
    "RMSE = pd.DataFrame((list(zip([\"Linear\",\"Ridge\",\"Lasso\",\"ElasticNet\"], [linear_rmse,ridge_rmse,lasso_rmse,elasticnet_rmse]))), columns = ['Models', 'RMSE'])\n",
    "RMSE"
   ]
  },
  {
   "cell_type": "markdown",
   "metadata": {},
   "source": [
    "--> **ELASTICNET REGRESSION MODEL HAS THE LEAST RMSE**\n",
    "(But I know this seems to be incorrect. I'm still in the process of understanding all of these. Apologies, huhu)"
   ]
  }
 ],
 "metadata": {
  "kernelspec": {
   "display_name": "Python 3",
   "language": "python",
   "name": "python3"
  },
  "language_info": {
   "codemirror_mode": {
    "name": "ipython",
    "version": 3
   },
   "file_extension": ".py",
   "mimetype": "text/x-python",
   "name": "python",
   "nbconvert_exporter": "python",
   "pygments_lexer": "ipython3",
   "version": "3.7.4"
  }
 },
 "nbformat": 4,
 "nbformat_minor": 2
}
